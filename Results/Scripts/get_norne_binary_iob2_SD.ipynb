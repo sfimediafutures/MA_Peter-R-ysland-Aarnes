{
 "cells": [
  {
   "cell_type": "code",
   "execution_count": 238,
   "metadata": {},
   "outputs": [],
   "source": [
    "import csv\n",
    "import os\n",
    "import numpy as np\n",
    "import pandas as pd\n",
    "\n",
    "def find_files(root_dir, binary=None, iob=None):\n",
    "    file_paths = {}\n",
    "    for dir_name, subdir_list, file_list in os.walk(root_dir):\n",
    "        for file_name in file_list:\n",
    "            if binary:\n",
    "                if 'norne_CR_binary_' in file_name:\n",
    "                    file_path = os.path.join(dir_name, file_name)\n",
    "                    key = file_name.replace('norne_CR_binary_', '')\n",
    "                    file_paths[key] = file_path\n",
    "            if iob:\n",
    "                if \"norne_CR_IOB2_\" in file_name:\n",
    "                    file_path = os.path.join(dir_name, file_name)\n",
    "                    key = file_name.replace('norne_CR_IOB2_', '')\n",
    "                    file_paths[key] = file_path\n",
    "    return file_paths\n",
    "\n",
    "\n",
    "\n"
   ]
  },
  {
   "cell_type": "code",
   "execution_count": 239,
   "metadata": {},
   "outputs": [],
   "source": [
    "root_directory = '/Users/aarnes/Documents/GitHub/MA_Peter-R-ysland-Aarnes/Results'\n",
    "files = find_files(root_directory, binary=True)\n",
    "files_iob = find_files(root_directory, iob=True)"
   ]
  },
  {
   "cell_type": "code",
   "execution_count": 240,
   "metadata": {},
   "outputs": [
    {
     "data": {
      "text/plain": [
       "{'norbert.csv': '/Users/aarnes/Documents/GitHub/MA_Peter-R-ysland-Aarnes/Results/norbert/norne_CR_IOB2_norbert.csv',\n",
       " 'nbailab-base-ner-scandi.csv': '/Users/aarnes/Documents/GitHub/MA_Peter-R-ysland-Aarnes/Results/nbailab-base-ner-scandi/norne_CR_IOB2_nbailab-base-ner-scandi.csv',\n",
       " 'bert-base-multilingual-cased.csv': '/Users/aarnes/Documents/GitHub/MA_Peter-R-ysland-Aarnes/Results/bert-base-multilingual-cased/norne_CR_IOB2_bert-base-multilingual-cased.csv',\n",
       " 'norbert2.csv': '/Users/aarnes/Documents/GitHub/MA_Peter-R-ysland-Aarnes/Results/norbert2/norne_CR_IOB2_norbert2.csv',\n",
       " 'nb-bert-base.csv': '/Users/aarnes/Documents/GitHub/MA_Peter-R-ysland-Aarnes/Results/nb-bert-base/norne_CR_IOB2_nb-bert-base.csv'}"
      ]
     },
     "execution_count": 240,
     "metadata": {},
     "output_type": "execute_result"
    }
   ],
   "source": [
    "files_iob"
   ]
  },
  {
   "cell_type": "code",
   "execution_count": 241,
   "metadata": {},
   "outputs": [
    {
     "data": {
      "text/plain": [
       "{'norbert.csv': '/Users/aarnes/Documents/GitHub/MA_Peter-R-ysland-Aarnes/Results/norbert/norne_CR_binary_norbert.csv',\n",
       " 'nbailab-base-ner-scandi.csv': '/Users/aarnes/Documents/GitHub/MA_Peter-R-ysland-Aarnes/Results/nbailab-base-ner-scandi/norne_CR_binary_nbailab-base-ner-scandi.csv',\n",
       " 'bert-base-multilingual-cased.csv': '/Users/aarnes/Documents/GitHub/MA_Peter-R-ysland-Aarnes/Results/bert-base-multilingual-cased/norne_CR_binary_bert-base-multilingual-cased.csv',\n",
       " 'norbert2.csv': '/Users/aarnes/Documents/GitHub/MA_Peter-R-ysland-Aarnes/Results/norbert2/norne_CR_binary_norbert2.csv',\n",
       " 'nb-bert-base.csv': '/Users/aarnes/Documents/GitHub/MA_Peter-R-ysland-Aarnes/Results/nb-bert-base/norne_CR_binary_nb-bert-base.csv'}"
      ]
     },
     "execution_count": 241,
     "metadata": {},
     "output_type": "execute_result"
    }
   ],
   "source": [
    "files"
   ]
  },
  {
   "cell_type": "code",
   "execution_count": 242,
   "metadata": {},
   "outputs": [
    {
     "data": {
      "text/plain": [
       "'norbert'"
      ]
     },
     "execution_count": 242,
     "metadata": {},
     "output_type": "execute_result"
    }
   ],
   "source": [
    "\"norbert.csv\".split(\".\")[0]"
   ]
  },
  {
   "cell_type": "code",
   "execution_count": 357,
   "metadata": {},
   "outputs": [],
   "source": [
    "def extract_rows(file_path, row_type, binary=None, IOB2=None): #row type \"macro_avg\" etc\n",
    "    with open(file_path, 'r') as file:\n",
    "        reader = csv.reader(file)\n",
    "        r, p, f1, s = [],[],[], []\n",
    "        for row in reader:\n",
    "            d = {}\n",
    "            if len(row) > 0 and row[0] == row_type and binary:\n",
    "                r.append(float(row[1])*100)\n",
    "                p.append(float(row[2])*100)\n",
    "                f1.append(float(row[3])*100)\n",
    "            elif len(row) > 0 and row[0] == row_type and IOB2:\n",
    "                r.append(float(row[1])*100)\n",
    "                p.append(float(row[2])*100)\n",
    "                f1.append(float(row[3])*100)\n",
    "                s.append(int(float(row[4])))\n",
    "        d[f\"precision\"]=p\n",
    "        d[\"recall\"]=r\n",
    "        d[f\"f1\"]=f1\n",
    "        d[f\"support\"]=s\n",
    "    return d\n"
   ]
  },
  {
   "cell_type": "code",
   "execution_count": null,
   "metadata": {},
   "outputs": [],
   "source": []
  },
  {
   "cell_type": "code",
   "execution_count": 358,
   "metadata": {},
   "outputs": [],
   "source": [
    "def get_sd_from_extracted_rows_keys(iob2_data, key):\n",
    "    texts = []\n",
    "    latex = []\n",
    "    model_name=key.split(\".\")[0]\n",
    "\n",
    "    print(model_name)\n",
    "    for key in iob2_data:\n",
    "        values = [float(x) for x in iob2_data[key]]\n",
    "        avg = np.mean(values)\n",
    "        std = np.std(values)\n",
    "        text = (f\"{key}: Average = {avg:.2f}, Standard Deviation = {std:.2f}\")\n",
    "        latex_text = (f\"{avg:.2f} (\\pm{{{std:.2f}}})\")\n",
    "        texts.append(text)\n",
    "        latex.append(latex_text)\n",
    "    for i in texts:\n",
    "        print(i)\n",
    "    for t in latex:\n",
    "        if t!=latex[-1]:\n",
    "            print(f\"{t} & \", end=\"\")\n",
    "        else:\n",
    "            print(f\"{t} \\\\\\\\ [2pt]\")\n",
    "    print()\n",
    "\n",
    "    return latex"
   ]
  },
  {
   "cell_type": "code",
   "execution_count": 359,
   "metadata": {},
   "outputs": [
    {
     "name": "stdout",
     "output_type": "stream",
     "text": [
      "norbert\n",
      "precision: Average = 82.88, Standard Deviation = 0.71\n",
      "recall: Average = 81.53, Standard Deviation = 2.11\n",
      "f1: Average = 82.19, Standard Deviation = 1.26\n",
      "support: Average = 2393.00, Standard Deviation = 0.00\n",
      "82.88 (\\pm{0.71}) & 81.53 (\\pm{2.11}) & 82.19 (\\pm{1.26}) & 2393.00 (\\pm{0.00}) \\\\ [2pt]\n",
      "\n",
      "nbailab-base-ner-scandi\n",
      "precision: Average = 86.90, Standard Deviation = 0.55\n",
      "recall: Average = 86.26, Standard Deviation = 0.47\n",
      "f1: Average = 86.58, Standard Deviation = 0.45\n",
      "support: Average = 2393.00, Standard Deviation = 0.00\n",
      "86.90 (\\pm{0.55}) & 86.26 (\\pm{0.47}) & 86.58 (\\pm{0.45}) & 2393.00 (\\pm{0.00}) \\\\ [2pt]\n",
      "\n",
      "bert-base-multilingual-cased\n",
      "precision: Average = 78.93, Standard Deviation = 1.01\n",
      "recall: Average = 81.06, Standard Deviation = 1.25\n",
      "f1: Average = 79.97, Standard Deviation = 0.41\n",
      "support: Average = 2393.00, Standard Deviation = 0.00\n",
      "78.93 (\\pm{1.01}) & 81.06 (\\pm{1.25}) & 79.97 (\\pm{0.41}) & 2393.00 (\\pm{0.00}) \\\\ [2pt]\n",
      "\n",
      "norbert2\n",
      "precision: Average = 84.96, Standard Deviation = 0.69\n",
      "recall: Average = 83.80, Standard Deviation = 0.62\n",
      "f1: Average = 84.38, Standard Deviation = 0.37\n",
      "support: Average = 2393.00, Standard Deviation = 0.00\n",
      "84.96 (\\pm{0.69}) & 83.80 (\\pm{0.62}) & 84.38 (\\pm{0.37}) & 2393.00 (\\pm{0.00}) \\\\ [2pt]\n",
      "\n",
      "nb-bert-base\n",
      "precision: Average = 87.17, Standard Deviation = 0.75\n",
      "recall: Average = 85.84, Standard Deviation = 0.55\n",
      "f1: Average = 86.50, Standard Deviation = 0.34\n",
      "support: Average = 2393.00, Standard Deviation = 0.00\n",
      "87.17 (\\pm{0.75}) & 85.84 (\\pm{0.55}) & 86.50 (\\pm{0.34}) & 2393.00 (\\pm{0.00}) \\\\ [2pt]\n",
      "\n"
     ]
    }
   ],
   "source": [
    "for key, v in files_iob.items():\n",
    "    iob2_data = extract_rows(v, \"micro avg\", IOB2=True)\n",
    "    get_sd_from_extracted_rows_keys(iob2_data, key)"
   ]
  },
  {
   "cell_type": "code",
   "execution_count": 360,
   "metadata": {},
   "outputs": [
    {
     "name": "stdout",
     "output_type": "stream",
     "text": [
      "nbailab-base-ner-scandi\n",
      "precision: Average = 86.90, Standard Deviation = 0.55\n",
      "recall: Average = 86.26, Standard Deviation = 0.47\n",
      "f1: Average = 86.58, Standard Deviation = 0.45\n",
      "support: Average = 2393.00, Standard Deviation = 0.00\n",
      "86.90 (\\pm{0.55}) & 86.26 (\\pm{0.47}) & 86.58 (\\pm{0.45}) & 2393.00 (\\pm{0.00}) \\\\ [2pt]\n",
      "\n"
     ]
    }
   ],
   "source": [
    "for key, v in files_iob.items():\n",
    "    if key==\"nbailab-base-ner-scandi.csv\":\n",
    "        iob2_data = extract_rows(v, \"micro avg\", IOB2=True)\n",
    "        get_sd_from_extracted_rows_keys(iob2_data, key)"
   ]
  },
  {
   "cell_type": "code",
   "execution_count": 381,
   "metadata": {},
   "outputs": [
    {
     "name": "stdout",
     "output_type": "stream",
     "text": [
      "PER\n",
      "precision: Average = 96.75, Standard Deviation = 0.86\n",
      "recall: Average = 94.97, Standard Deviation = 0.76\n",
      "f1: Average = 95.85, Standard Deviation = 0.26\n",
      "support: Average = 961.00, Standard Deviation = 0.00\n",
      "96.75 (\\pm{0.86}) & 94.97 (\\pm{0.76}) & 95.85 (\\pm{0.26}) & 961.00 (\\pm{0.00}) \\\\ [2pt]\n",
      "\n",
      "LOC\n",
      "precision: Average = 78.38, Standard Deviation = 3.15\n",
      "recall: Average = 75.26, Standard Deviation = 1.85\n",
      "f1: Average = 76.74, Standard Deviation = 1.64\n",
      "support: Average = 185.00, Standard Deviation = 0.00\n",
      "78.38 (\\pm{3.15}) & 75.26 (\\pm{1.85}) & 76.74 (\\pm{1.64}) & 185.00 (\\pm{0.00}) \\\\ [2pt]\n",
      "\n",
      "ORG\n",
      "precision: Average = 80.15, Standard Deviation = 0.89\n",
      "recall: Average = 84.84, Standard Deviation = 0.48\n",
      "f1: Average = 82.43, Standard Deviation = 0.69\n",
      "support: Average = 521.00, Standard Deviation = 0.00\n",
      "80.15 (\\pm{0.89}) & 84.84 (\\pm{0.48}) & 82.43 (\\pm{0.69}) & 521.00 (\\pm{0.00}) \\\\ [2pt]\n",
      "\n",
      "GPE_LOC\n",
      "precision: Average = 93.32, Standard Deviation = 0.67\n",
      "recall: Average = 88.93, Standard Deviation = 0.95\n",
      "f1: Average = 91.06, Standard Deviation = 0.40\n",
      "support: Average = 428.00, Standard Deviation = 0.00\n",
      "93.32 (\\pm{0.67}) & 88.93 (\\pm{0.95}) & 91.06 (\\pm{0.40}) & 428.00 (\\pm{0.00}) \\\\ [2pt]\n",
      "\n",
      "GPE_ORG\n",
      "precision: Average = 64.26, Standard Deviation = 1.91\n",
      "recall: Average = 75.91, Standard Deviation = 3.44\n",
      "f1: Average = 69.51, Standard Deviation = 0.89\n",
      "support: Average = 61.00, Standard Deviation = 0.00\n",
      "64.26 (\\pm{1.91}) & 75.91 (\\pm{3.44}) & 69.51 (\\pm{0.89}) & 61.00 (\\pm{0.00}) \\\\ [2pt]\n",
      "\n",
      "PROD\n",
      "precision: Average = 56.95, Standard Deviation = 2.49\n",
      "recall: Average = 53.12, Standard Deviation = 4.38\n",
      "f1: Average = 54.81, Standard Deviation = 2.37\n",
      "support: Average = 131.00, Standard Deviation = 0.00\n",
      "56.95 (\\pm{2.49}) & 53.12 (\\pm{4.38}) & 54.81 (\\pm{2.37}) & 131.00 (\\pm{0.00}) \\\\ [2pt]\n",
      "\n",
      "EVT\n",
      "precision: Average = 64.29, Standard Deviation = 11.95\n",
      "recall: Average = 52.25, Standard Deviation = 6.51\n",
      "f1: Average = 57.12, Standard Deviation = 6.40\n",
      "support: Average = 14.00, Standard Deviation = 0.00\n",
      "64.29 (\\pm{11.95}) & 52.25 (\\pm{6.51}) & 57.12 (\\pm{6.40}) & 14.00 (\\pm{0.00}) \\\\ [2pt]\n",
      "\n",
      "DRV\n",
      "precision: Average = 76.92, Standard Deviation = 2.29\n",
      "recall: Average = 74.08, Standard Deviation = 2.96\n",
      "f1: Average = 75.39, Standard Deviation = 1.05\n",
      "support: Average = 78.00, Standard Deviation = 0.00\n",
      "76.92 (\\pm{2.29}) & 74.08 (\\pm{2.96}) & 75.39 (\\pm{1.05}) & 78.00 (\\pm{0.00}) \\\\ [2pt]\n",
      "\n",
      "MISC\n",
      "precision: Average = 35.71, Standard Deviation = 21.19\n",
      "recall: Average = 73.78, Standard Deviation = 37.64\n",
      "f1: Average = 46.66, Standard Deviation = 25.07\n",
      "support: Average = 14.00, Standard Deviation = 0.00\n",
      "35.71 (\\pm{21.19}) & 73.78 (\\pm{37.64}) & 46.66 (\\pm{25.07}) & 14.00 (\\pm{0.00}) \\\\ [2pt]\n",
      "\n",
      "micro avg\n",
      "precision: Average = 86.90, Standard Deviation = 0.55\n",
      "recall: Average = 86.26, Standard Deviation = 0.47\n",
      "f1: Average = 86.58, Standard Deviation = 0.45\n",
      "support: Average = 2393.00, Standard Deviation = 0.00\n",
      "86.90 (\\pm{0.55}) & 86.26 (\\pm{0.47}) & 86.58 (\\pm{0.45}) & 2393.00 (\\pm{0.00}) \\\\ [2pt]\n",
      "\n",
      "PER & 96.75 (\\pm{0.86}) & 94.97 (\\pm{0.76}) 95.85 (\\pm{0.26}) & 961 \\\\ [2pt]\n",
      "LOC & 78.38 (\\pm{3.15}) & 75.26 (\\pm{1.85}) 76.74 (\\pm{1.64}) & 185 \\\\ [2pt]\n",
      "ORG & 80.15 (\\pm{0.89}) & 84.84 (\\pm{0.48}) 82.43 (\\pm{0.69}) & 521 \\\\ [2pt]\n",
      "GPE_LOC & 93.32 (\\pm{0.67}) & 88.93 (\\pm{0.95}) 91.06 (\\pm{0.40}) & 428 \\\\ [2pt]\n",
      "GPE_ORG & 64.26 (\\pm{1.91}) & 75.91 (\\pm{3.44}) 69.51 (\\pm{0.89}) & 61 \\\\ [2pt]\n",
      "PROD & 56.95 (\\pm{2.49}) & 53.12 (\\pm{4.38}) 54.81 (\\pm{2.37}) & 131 \\\\ [2pt]\n",
      "EVT & 64.29 (\\pm{11.95}) & 52.25 (\\pm{6.51}) 57.12 (\\pm{6.40}) & 14 \\\\ [2pt]\n",
      "DRV & 76.92 (\\pm{2.29}) & 74.08 (\\pm{2.96}) 75.39 (\\pm{1.05}) & 78 \\\\ [2pt]\n",
      "MISC & 35.71 (\\pm{21.19}) & 73.78 (\\pm{37.64}) 46.66 (\\pm{25.07}) & 14 \\\\ [2pt]\n",
      "micro avg & 86.90 (\\pm{0.55}) & 86.26 (\\pm{0.47}) 86.58 (\\pm{0.45}) & 2393 \\\\ [2pt]\n"
     ]
    }
   ],
   "source": [
    "lst = [\"PER\", \"LOC\", \"ORG\", \"GPE_LOC\", \"GPE_ORG\", \"PROD\", \"EVT\", \"DRV\", \"MISC\", \"micro avg\"]\n",
    "d = {}\n",
    "for name in lst:\n",
    "    for key, v in files_iob.items():\n",
    "        if key==\"nbailab-base-ner-scandi.csv\":\n",
    "            d[name]=extract_rows(v, name, IOB2=True)\n",
    "\n",
    "all_latex = []\n",
    "for k, v in d.items():\n",
    "    latex = get_sd_from_extracted_rows_keys(v, k)\n",
    "    all_latex.append(latex)\n",
    "\n",
    "for latex, name in zip(all_latex, lst):\n",
    "    for i1 in latex:\n",
    "        if i1==latex[0]:\n",
    "            print(f\"{name} & {i1} &\", end=\" \")\n",
    "        elif i1!=latex[-1] and i1!=[0]:\n",
    "            print(f\"{i1}\", end=\" \")\n",
    "        else:\n",
    "            print(f\"& {i1[:-15]} \\\\\\\\ [2pt]\")"
   ]
  },
  {
   "cell_type": "code",
   "execution_count": 379,
   "metadata": {},
   "outputs": [
    {
     "name": "stdout",
     "output_type": "stream",
     "text": [
      "\n",
      "norbert\n",
      "precision: Average = 82.88, Standard Deviation = 0.71\n",
      "recall: Average = 81.53, Standard Deviation = 2.11\n",
      "f1: Average = 82.19, Standard Deviation = 1.26\n",
      "support: Average = 2393.00, Standard Deviation = 0.00\n",
      "\n",
      "nbailab-base-ner-scandi\n",
      "precision: Average = 86.90, Standard Deviation = 0.55\n",
      "recall: Average = 86.26, Standard Deviation = 0.47\n",
      "f1: Average = 86.58, Standard Deviation = 0.45\n",
      "support: Average = 2393.00, Standard Deviation = 0.00\n",
      "\n",
      "bert-base-multilingual-cased\n",
      "precision: Average = 78.93, Standard Deviation = 1.01\n",
      "recall: Average = 81.06, Standard Deviation = 1.25\n",
      "f1: Average = 79.97, Standard Deviation = 0.41\n",
      "support: Average = 2393.00, Standard Deviation = 0.00\n",
      "\n",
      "norbert2\n",
      "precision: Average = 84.96, Standard Deviation = 0.69\n",
      "recall: Average = 83.80, Standard Deviation = 0.62\n",
      "f1: Average = 84.38, Standard Deviation = 0.37\n",
      "support: Average = 2393.00, Standard Deviation = 0.00\n",
      "\n",
      "nb-bert-base\n",
      "precision: Average = 87.17, Standard Deviation = 0.75\n",
      "recall: Average = 85.84, Standard Deviation = 0.55\n",
      "f1: Average = 86.50, Standard Deviation = 0.34\n",
      "support: Average = 2393.00, Standard Deviation = 0.00\n"
     ]
    }
   ],
   "source": [
    "for k, v in files_iob.items():\n",
    "    model_name=k.split(\".\")[0]\n",
    "    iob2_data = extract_rows(v, \"micro avg\", IOB2=True)\n",
    "    print()\n",
    "    print(model_name)\n",
    "    for key in iob2_data:\n",
    "        values = [float(x) for x in iob2_data[key]]\n",
    "        avg = np.mean(values)\n",
    "        std = np.std(values)\n",
    "        print(f\"{key}: Average = {avg:.2f}, Standard Deviation = {std:.2f}\")"
   ]
  },
  {
   "cell_type": "code",
   "execution_count": 371,
   "metadata": {},
   "outputs": [
    {
     "data": {
      "text/plain": [
       "11"
      ]
     },
     "execution_count": 371,
     "metadata": {},
     "output_type": "execute_result"
    }
   ],
   "source": [
    "len(\"(\\pm{0.00})\")"
   ]
  },
  {
   "cell_type": "code",
   "execution_count": null,
   "metadata": {},
   "outputs": [
    {
     "name": "stdout",
     "output_type": "stream",
     "text": [
      "\n",
      "norbert\n",
      "precision: Average = 96.04, Standard Deviation = 0.45\n",
      "recall: Average = 96.61, Standard Deviation = 0.56\n",
      "f1: Average = 96.32, Standard Deviation = 0.10\n",
      "\n",
      "nbailab-base-ner-scandi\n",
      "precision: Average = 96.71, Standard Deviation = 0.16\n",
      "recall: Average = 97.44, Standard Deviation = 0.12\n",
      "f1: Average = 97.07, Standard Deviation = 0.13\n",
      "\n",
      "bert-base-multilingual-cased\n",
      "precision: Average = 94.68, Standard Deviation = 0.51\n",
      "recall: Average = 96.38, Standard Deviation = 0.49\n",
      "f1: Average = 95.51, Standard Deviation = 0.10\n",
      "\n",
      "norbert2\n",
      "precision: Average = 96.21, Standard Deviation = 0.17\n",
      "recall: Average = 96.76, Standard Deviation = 0.21\n",
      "f1: Average = 96.48, Standard Deviation = 0.08\n",
      "\n",
      "nb-bert-base\n",
      "precision: Average = 96.98, Standard Deviation = 0.34\n",
      "recall: Average = 97.16, Standard Deviation = 0.27\n",
      "f1: Average = 97.06, Standard Deviation = 0.09\n"
     ]
    }
   ],
   "source": [
    "for k, v in files.items():\n",
    "    model_name=k.split(\".\")[0]\n",
    "    data = extract_rows(v, row_type=\"macro avg\", binary=True)\n",
    "    print()\n",
    "    print(model_name)\n",
    "    for key in data:\n",
    "        values = [float(x) for x in data[key]]\n",
    "        avg = np.mean(values)\n",
    "        std = np.std(values)\n",
    "        print(f\"{key}: Average = {avg:.2f}, Standard Deviation = {std:.2f}\")"
   ]
  }
 ],
 "metadata": {
  "kernelspec": {
   "display_name": "Python 3",
   "language": "python",
   "name": "python3"
  },
  "language_info": {
   "codemirror_mode": {
    "name": "ipython",
    "version": 3
   },
   "file_extension": ".py",
   "mimetype": "text/x-python",
   "name": "python",
   "nbconvert_exporter": "python",
   "pygments_lexer": "ipython3",
   "version": "3.7.0"
  },
  "orig_nbformat": 4,
  "vscode": {
   "interpreter": {
    "hash": "aee8b7b246df8f9039afb4144a1f6fd8d2ca17a180786b69acc140d282b71a49"
   }
  }
 },
 "nbformat": 4,
 "nbformat_minor": 2
}
