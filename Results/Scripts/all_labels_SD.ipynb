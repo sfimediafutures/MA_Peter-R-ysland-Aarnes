{
 "cells": [
  {
   "cell_type": "code",
   "execution_count": 1,
   "metadata": {},
   "outputs": [],
   "source": [
    "import csv\n",
    "import os\n",
    "import numpy as np\n",
    "import pandas as pd\n",
    "\n",
    "def find_files(root_dir, binary=None, iob=None):\n",
    "    file_paths = {}\n",
    "    for dir_name, subdir_list, file_list in os.walk(root_dir):\n",
    "        for file_name in file_list:\n",
    "            if binary:\n",
    "                if 'norne_CR_binary_' in file_name:\n",
    "                    file_path = os.path.join(dir_name, file_name)\n",
    "                    key = file_name.replace('norne_CR_binary_', '')\n",
    "                    file_paths[key] = file_path\n",
    "            if iob:\n",
    "                if \"norne_CR_all_labels_\" in file_name:\n",
    "                    file_path = os.path.join(dir_name, file_name)\n",
    "                    key = file_name.replace('norne_CR_all_labels_', '')\n",
    "                    file_paths[key] = file_path\n",
    "    return file_paths\n",
    "\n",
    "\n",
    "\n"
   ]
  },
  {
   "cell_type": "code",
   "execution_count": 2,
   "metadata": {},
   "outputs": [],
   "source": [
    "root_directory = '/Users/aarnes/Documents/GitHub/MA_Peter-R-ysland-Aarnes/Results'\n",
    "files = find_files(root_directory, binary=True)\n",
    "files_iob = find_files(root_directory, iob=True)"
   ]
  },
  {
   "cell_type": "code",
   "execution_count": 3,
   "metadata": {},
   "outputs": [
    {
     "data": {
      "text/plain": [
       "{'norbert.csv': '/Users/aarnes/Documents/GitHub/MA_Peter-R-ysland-Aarnes/Results/norbert/norne_CR_all_labels_norbert.csv',\n",
       " 'nbailab-base-ner-scandi.csv': '/Users/aarnes/Documents/GitHub/MA_Peter-R-ysland-Aarnes/Results/nbailab-base-ner-scandi/norne_CR_all_labels_nbailab-base-ner-scandi.csv',\n",
       " 'bert-base-multilingual-cased.csv': '/Users/aarnes/Documents/GitHub/MA_Peter-R-ysland-Aarnes/Results/bert-base-multilingual-cased/norne_CR_all_labels_bert-base-multilingual-cased.csv',\n",
       " 'norbert2.csv': '/Users/aarnes/Documents/GitHub/MA_Peter-R-ysland-Aarnes/Results/norbert2/norne_CR_all_labels_norbert2.csv',\n",
       " 'nb-bert-base.csv': '/Users/aarnes/Documents/GitHub/MA_Peter-R-ysland-Aarnes/Results/nb-bert-base/norne_CR_all_labels_nb-bert-base.csv'}"
      ]
     },
     "execution_count": 3,
     "metadata": {},
     "output_type": "execute_result"
    }
   ],
   "source": [
    "files_iob"
   ]
  },
  {
   "cell_type": "code",
   "execution_count": 4,
   "metadata": {},
   "outputs": [
    {
     "data": {
      "text/plain": [
       "{'norbert.csv': '/Users/aarnes/Documents/GitHub/MA_Peter-R-ysland-Aarnes/Results/norbert/norne_CR_binary_norbert.csv',\n",
       " 'nbailab-base-ner-scandi.csv': '/Users/aarnes/Documents/GitHub/MA_Peter-R-ysland-Aarnes/Results/nbailab-base-ner-scandi/norne_CR_binary_nbailab-base-ner-scandi.csv',\n",
       " 'bert-base-multilingual-cased.csv': '/Users/aarnes/Documents/GitHub/MA_Peter-R-ysland-Aarnes/Results/bert-base-multilingual-cased/norne_CR_binary_bert-base-multilingual-cased.csv',\n",
       " 'norbert2.csv': '/Users/aarnes/Documents/GitHub/MA_Peter-R-ysland-Aarnes/Results/norbert2/norne_CR_binary_norbert2.csv',\n",
       " 'nb-bert-base.csv': '/Users/aarnes/Documents/GitHub/MA_Peter-R-ysland-Aarnes/Results/nb-bert-base/norne_CR_binary_nb-bert-base.csv'}"
      ]
     },
     "execution_count": 4,
     "metadata": {},
     "output_type": "execute_result"
    }
   ],
   "source": [
    "files"
   ]
  },
  {
   "cell_type": "code",
   "execution_count": 5,
   "metadata": {},
   "outputs": [
    {
     "data": {
      "text/plain": [
       "'norbert'"
      ]
     },
     "execution_count": 5,
     "metadata": {},
     "output_type": "execute_result"
    }
   ],
   "source": [
    "\"norbert.csv\".split(\".\")[0]"
   ]
  },
  {
   "cell_type": "code",
   "execution_count": 6,
   "metadata": {},
   "outputs": [],
   "source": [
    "def extract_rows(file_path, row_type, binary=None, IOB2=None): #row type \"macro_avg\" etc\n",
    "    with open(file_path, 'r') as file:\n",
    "        reader = csv.reader(file)\n",
    "        r, p, f1, s = [],[],[], []\n",
    "        for row in reader:\n",
    "            d = {}\n",
    "            if len(row) > 0 and row[0] == row_type and binary:\n",
    "                r.append(float(row[1])*100)\n",
    "                p.append(float(row[2])*100)\n",
    "                f1.append(float(row[3])*100)\n",
    "            elif len(row) > 0 and row[0] == row_type and IOB2:\n",
    "                r.append(float(row[1])*100)\n",
    "                p.append(float(row[2])*100)\n",
    "                f1.append(float(row[3])*100)\n",
    "                s.append(int(float(row[4])))\n",
    "        d[f\"precision\"]=p\n",
    "        d[\"recall\"]=r\n",
    "        d[f\"f1\"]=f1\n",
    "        d[f\"support\"]=s\n",
    "    return d\n"
   ]
  },
  {
   "cell_type": "code",
   "execution_count": null,
   "metadata": {},
   "outputs": [],
   "source": []
  },
  {
   "cell_type": "code",
   "execution_count": 7,
   "metadata": {},
   "outputs": [],
   "source": [
    "def get_sd_from_extracted_rows_keys(iob2_data, key):\n",
    "    texts = []\n",
    "    latex = []\n",
    "    model_name=key.split(\".\")[0]\n",
    "\n",
    "    print(model_name)\n",
    "    for key in iob2_data:\n",
    "        values = [float(x) for x in iob2_data[key]]\n",
    "        avg = np.mean(values)\n",
    "        std = np.std(values)\n",
    "        text = (f\"{key}: Average = {avg:.2f}, Standard Deviation = {std:.2f}\")\n",
    "        latex_text = (f\"{avg:.2f} (\\pm{{{std:.2f}}})\")\n",
    "        texts.append(text)\n",
    "        latex.append(latex_text)\n",
    "    for i in texts:\n",
    "        print(i)\n",
    "    for t in latex:\n",
    "        if t!=latex[-1]:\n",
    "            print(f\"{t} & \", end=\"\")\n",
    "        else:\n",
    "            print(f\"{t} \\\\\\\\ [2pt]\")\n",
    "    print()\n",
    "\n",
    "    return latex"
   ]
  },
  {
   "cell_type": "code",
   "execution_count": 8,
   "metadata": {},
   "outputs": [
    {
     "name": "stdout",
     "output_type": "stream",
     "text": [
      "norbert\n",
      "precision: Average = 82.58, Standard Deviation = 0.58\n",
      "recall: Average = 83.69, Standard Deviation = 1.98\n",
      "f1: Average = 83.12, Standard Deviation = 1.10\n",
      "support: Average = 3468.00, Standard Deviation = 0.00\n",
      "82.58 (\\pm{0.58}) & 83.69 (\\pm{1.98}) & 83.12 (\\pm{1.10}) & 3468.00 (\\pm{0.00}) \\\\ [2pt]\n",
      "\n",
      "nbailab-base-ner-scandi\n",
      "precision: Average = 86.35, Standard Deviation = 0.64\n",
      "recall: Average = 87.79, Standard Deviation = 0.49\n",
      "f1: Average = 87.06, Standard Deviation = 0.56\n",
      "support: Average = 3468.00, Standard Deviation = 0.00\n",
      "86.35 (\\pm{0.64}) & 87.79 (\\pm{0.49}) & 87.06 (\\pm{0.56}) & 3468.00 (\\pm{0.00}) \\\\ [2pt]\n",
      "\n",
      "bert-base-multilingual-cased\n",
      "precision: Average = 80.54, Standard Deviation = 1.03\n",
      "recall: Average = 83.84, Standard Deviation = 1.11\n",
      "f1: Average = 82.15, Standard Deviation = 0.50\n",
      "support: Average = 3468.00, Standard Deviation = 0.00\n",
      "80.54 (\\pm{1.03}) & 83.84 (\\pm{1.11}) & 82.15 (\\pm{0.50}) & 3468.00 (\\pm{0.00}) \\\\ [2pt]\n",
      "\n",
      "norbert2\n",
      "precision: Average = 84.91, Standard Deviation = 0.47\n",
      "recall: Average = 86.00, Standard Deviation = 0.34\n",
      "f1: Average = 85.45, Standard Deviation = 0.23\n",
      "support: Average = 3468.00, Standard Deviation = 0.00\n",
      "84.91 (\\pm{0.47}) & 86.00 (\\pm{0.34}) & 85.45 (\\pm{0.23}) & 3468.00 (\\pm{0.00}) \\\\ [2pt]\n",
      "\n",
      "nb-bert-base\n",
      "precision: Average = 86.83, Standard Deviation = 0.80\n",
      "recall: Average = 87.19, Standard Deviation = 0.45\n",
      "f1: Average = 87.00, Standard Deviation = 0.30\n",
      "support: Average = 3468.00, Standard Deviation = 0.00\n",
      "86.83 (\\pm{0.80}) & 87.19 (\\pm{0.45}) & 87.00 (\\pm{0.30}) & 3468.00 (\\pm{0.00}) \\\\ [2pt]\n",
      "\n"
     ]
    }
   ],
   "source": [
    "for key, v in files_iob.items():\n",
    "    iob2_data = extract_rows(v, \"micro avg\", IOB2=True)\n",
    "    get_sd_from_extracted_rows_keys(iob2_data, key)"
   ]
  },
  {
   "cell_type": "code",
   "execution_count": 13,
   "metadata": {},
   "outputs": [],
   "source": [
    "for key, v in files_iob.items():\n",
    "    if key==\"nb-bert-base..csv\":\n",
    "        iob2_data = extract_rows(v, \"micro avg\", IOB2=True)\n",
    "        get_sd_from_extracted_rows_keys(iob2_data, key)"
   ]
  },
  {
   "cell_type": "code",
   "execution_count": 14,
   "metadata": {},
   "outputs": [
    {
     "name": "stdout",
     "output_type": "stream",
     "text": [
      "B-GPE_LOC\n",
      "precision: Average = 93.46, Standard Deviation = 0.57\n",
      "recall: Average = 89.06, Standard Deviation = 0.99\n",
      "f1: Average = 91.20, Standard Deviation = 0.37\n",
      "support: Average = 428.00, Standard Deviation = 0.00\n",
      "93.46 (\\pm{0.57}) & 89.06 (\\pm{0.99}) & 91.20 (\\pm{0.37}) & 428.00 (\\pm{0.00}) \\\\ [2pt]\n",
      "\n",
      "I-DRV\n",
      "precision: Average = 41.54, Standard Deviation = 3.77\n",
      "recall: Average = 45.42, Standard Deviation = 8.55\n",
      "f1: Average = 43.13, Standard Deviation = 5.34\n",
      "support: Average = 13.00, Standard Deviation = 0.00\n",
      "41.54 (\\pm{3.77}) & 45.42 (\\pm{8.55}) & 43.13 (\\pm{5.34}) & 13.00 (\\pm{0.00}) \\\\ [2pt]\n",
      "\n",
      "I-LOC\n",
      "precision: Average = 74.35, Standard Deviation = 5.23\n",
      "recall: Average = 86.39, Standard Deviation = 2.92\n",
      "f1: Average = 79.72, Standard Deviation = 1.88\n",
      "support: Average = 85.00, Standard Deviation = 0.00\n",
      "74.35 (\\pm{5.23}) & 86.39 (\\pm{2.92}) & 79.72 (\\pm{1.88}) & 85.00 (\\pm{0.00}) \\\\ [2pt]\n",
      "\n",
      "B-PER\n",
      "precision: Average = 96.90, Standard Deviation = 0.95\n",
      "recall: Average = 95.11, Standard Deviation = 0.68\n",
      "f1: Average = 95.99, Standard Deviation = 0.29\n",
      "support: Average = 961.00, Standard Deviation = 0.00\n",
      "96.90 (\\pm{0.95}) & 95.11 (\\pm{0.68}) & 95.99 (\\pm{0.29}) & 961.00 (\\pm{0.00}) \\\\ [2pt]\n",
      "\n",
      "I-PER\n",
      "precision: Average = 98.31, Standard Deviation = 0.36\n",
      "recall: Average = 95.37, Standard Deviation = 0.79\n",
      "f1: Average = 96.82, Standard Deviation = 0.39\n",
      "support: Average = 510.00, Standard Deviation = 0.00\n",
      "98.31 (\\pm{0.36}) & 95.37 (\\pm{0.79}) & 96.82 (\\pm{0.39}) & 510.00 (\\pm{0.00}) \\\\ [2pt]\n",
      "\n",
      "B-PROD\n",
      "precision: Average = 60.61, Standard Deviation = 3.33\n",
      "recall: Average = 56.48, Standard Deviation = 4.38\n",
      "f1: Average = 58.31, Standard Deviation = 2.65\n",
      "support: Average = 131.00, Standard Deviation = 0.00\n",
      "60.61 (\\pm{3.33}) & 56.48 (\\pm{4.38}) & 58.31 (\\pm{2.65}) & 131.00 (\\pm{0.00}) \\\\ [2pt]\n",
      "\n",
      "I-GPE_ORG\n",
      "precision: Average = 100.00, Standard Deviation = 0.00\n",
      "recall: Average = 71.12, Standard Deviation = 14.91\n",
      "f1: Average = 82.32, Standard Deviation = 9.26\n",
      "support: Average = 7.00, Standard Deviation = 0.00\n",
      "100.00 (\\pm{0.00}) & 71.12 (\\pm{14.91}) & 82.32 (\\pm{9.26}) & 7.00 (\\pm{0.00}) \\\\ [2pt]\n",
      "\n",
      "B-GPE_ORG\n",
      "precision: Average = 64.26, Standard Deviation = 1.91\n",
      "recall: Average = 75.91, Standard Deviation = 3.44\n",
      "f1: Average = 69.51, Standard Deviation = 0.89\n",
      "support: Average = 61.00, Standard Deviation = 0.00\n",
      "64.26 (\\pm{1.91}) & 75.91 (\\pm{3.44}) & 69.51 (\\pm{0.89}) & 61.00 (\\pm{0.00}) \\\\ [2pt]\n",
      "\n",
      "B-EVT\n",
      "precision: Average = 68.57, Standard Deviation = 14.00\n",
      "recall: Average = 55.69, Standard Deviation = 7.94\n",
      "f1: Average = 60.89, Standard Deviation = 8.13\n",
      "support: Average = 14.00, Standard Deviation = 0.00\n",
      "68.57 (\\pm{14.00}) & 55.69 (\\pm{7.94}) & 60.89 (\\pm{8.13}) & 14.00 (\\pm{0.00}) \\\\ [2pt]\n",
      "\n",
      "B-DRV\n",
      "precision: Average = 79.49, Standard Deviation = 2.69\n",
      "recall: Average = 76.54, Standard Deviation = 2.93\n",
      "f1: Average = 77.90, Standard Deviation = 1.27\n",
      "support: Average = 78.00, Standard Deviation = 0.00\n",
      "79.49 (\\pm{2.69}) & 76.54 (\\pm{2.93}) & 77.90 (\\pm{1.27}) & 78.00 (\\pm{0.00}) \\\\ [2pt]\n",
      "\n",
      "I-PROD\n",
      "precision: Average = 48.25, Standard Deviation = 6.87\n",
      "recall: Average = 63.32, Standard Deviation = 4.58\n",
      "f1: Average = 54.57, Standard Deviation = 5.53\n",
      "support: Average = 126.00, Standard Deviation = 0.00\n",
      "48.25 (\\pm{6.87}) & 63.32 (\\pm{4.58}) & 54.57 (\\pm{5.53}) & 126.00 (\\pm{0.00}) \\\\ [2pt]\n",
      "\n",
      "B-ORG\n",
      "precision: Average = 82.26, Standard Deviation = 0.65\n",
      "recall: Average = 87.08, Standard Deviation = 0.20\n",
      "f1: Average = 84.60, Standard Deviation = 0.42\n",
      "support: Average = 521.00, Standard Deviation = 0.00\n",
      "82.26 (\\pm{0.65}) & 87.08 (\\pm{0.20}) & 84.60 (\\pm{0.42}) & 521.00 (\\pm{0.00}) \\\\ [2pt]\n",
      "\n",
      "B-MISC\n",
      "precision: Average = 40.00, Standard Deviation = 25.79\n",
      "recall: Average = 80.00, Standard Deviation = 40.00\n",
      "f1: Average = 51.73, Standard Deviation = 29.77\n",
      "support: Average = 14.00, Standard Deviation = 0.00\n",
      "40.00 (\\pm{25.79}) & 80.00 (\\pm{40.00}) & 51.73 (\\pm{29.77}) & 14.00 (\\pm{0.00}) \\\\ [2pt]\n",
      "\n",
      "I-MISC\n",
      "precision: Average = 20.00, Standard Deviation = 16.33\n",
      "recall: Average = 60.00, Standard Deviation = 48.99\n",
      "f1: Average = 30.00, Standard Deviation = 24.49\n",
      "support: Average = 3.00, Standard Deviation = 0.00\n",
      "20.00 (\\pm{16.33}) & 60.00 (\\pm{48.99}) & 30.00 (\\pm{24.49}) & 3.00 (\\pm{0.00}) \\\\ [2pt]\n",
      "\n",
      "I-GPE_LOC\n",
      "precision: Average = 93.42, Standard Deviation = 1.24\n",
      "recall: Average = 90.49, Standard Deviation = 2.41\n",
      "f1: Average = 91.92, Standard Deviation = 1.61\n",
      "support: Average = 79.00, Standard Deviation = 0.00\n",
      "93.42 (\\pm{1.24}) & 90.49 (\\pm{2.41}) & 91.92 (\\pm{1.61}) & 79.00 (\\pm{0.00}) \\\\ [2pt]\n",
      "\n",
      "B-LOC\n",
      "precision: Average = 78.92, Standard Deviation = 3.28\n",
      "recall: Average = 75.79, Standard Deviation = 2.30\n",
      "f1: Average = 77.28, Standard Deviation = 1.99\n",
      "support: Average = 185.00, Standard Deviation = 0.00\n",
      "78.92 (\\pm{3.28}) & 75.79 (\\pm{2.30}) & 77.28 (\\pm{1.99}) & 185.00 (\\pm{0.00}) \\\\ [2pt]\n",
      "\n",
      "I-ORG\n",
      "precision: Average = 72.26, Standard Deviation = 2.23\n",
      "recall: Average = 92.05, Standard Deviation = 1.53\n",
      "f1: Average = 80.92, Standard Deviation = 1.16\n",
      "support: Average = 248.00, Standard Deviation = 0.00\n",
      "72.26 (\\pm{2.23}) & 92.05 (\\pm{1.53}) & 80.92 (\\pm{1.16}) & 248.00 (\\pm{0.00}) \\\\ [2pt]\n",
      "\n",
      "I-EVT\n",
      "precision: Average = 40.00, Standard Deviation = 25.50\n",
      "recall: Average = 25.90, Standard Deviation = 18.22\n",
      "f1: Average = 30.62, Standard Deviation = 20.01\n",
      "support: Average = 4.00, Standard Deviation = 0.00\n",
      "40.00 (\\pm{25.50}) & 25.90 (\\pm{18.22}) & 30.62 (\\pm{20.01}) & 4.00 (\\pm{0.00}) \\\\ [2pt]\n",
      "\n",
      "B-GPE_LOC & 93.46 (\\pm{0.57}) & 89.06 (\\pm{0.99}) 91.20 (\\pm{0.37}) & 428 \\\\ [2pt]\n",
      "I-DRV & 41.54 (\\pm{3.77}) & 45.42 (\\pm{8.55}) 43.13 (\\pm{5.34}) & 13 \\\\ [2pt]\n",
      "I-LOC & 74.35 (\\pm{5.23}) & 86.39 (\\pm{2.92}) 79.72 (\\pm{1.88}) & 85 \\\\ [2pt]\n",
      "B-PER & 96.90 (\\pm{0.95}) & 95.11 (\\pm{0.68}) 95.99 (\\pm{0.29}) & 961 \\\\ [2pt]\n",
      "I-PER & 98.31 (\\pm{0.36}) & 95.37 (\\pm{0.79}) 96.82 (\\pm{0.39}) & 510 \\\\ [2pt]\n",
      "B-PROD & 60.61 (\\pm{3.33}) & 56.48 (\\pm{4.38}) 58.31 (\\pm{2.65}) & 131 \\\\ [2pt]\n",
      "I-GPE_ORG & 100.00 (\\pm{0.00}) & 71.12 (\\pm{14.91}) 82.32 (\\pm{9.26}) & 7 \\\\ [2pt]\n",
      "B-GPE_ORG & 64.26 (\\pm{1.91}) & 75.91 (\\pm{3.44}) 69.51 (\\pm{0.89}) & 61 \\\\ [2pt]\n",
      "B-EVT & 68.57 (\\pm{14.00}) & 55.69 (\\pm{7.94}) 60.89 (\\pm{8.13}) & 14 \\\\ [2pt]\n",
      "B-DRV & 79.49 (\\pm{2.69}) & 76.54 (\\pm{2.93}) 77.90 (\\pm{1.27}) & 78 \\\\ [2pt]\n",
      "I-PROD & 48.25 (\\pm{6.87}) & 63.32 (\\pm{4.58}) 54.57 (\\pm{5.53}) & 126 \\\\ [2pt]\n",
      "B-ORG & 82.26 (\\pm{0.65}) & 87.08 (\\pm{0.20}) 84.60 (\\pm{0.42}) & 521 \\\\ [2pt]\n",
      "B-MISC & 40.00 (\\pm{25.79}) & 80.00 (\\pm{40.00}) 51.73 (\\pm{29.77}) & 14 \\\\ [2pt]\n",
      "I-MISC & 20.00 (\\pm{16.33}) & 60.00 (\\pm{48.99}) 30.00 (\\pm{24.49}) & 3 \\\\ [2pt]\n",
      "I-GPE_LOC & 93.42 (\\pm{1.24}) & 90.49 (\\pm{2.41}) 91.92 (\\pm{1.61}) & 79 \\\\ [2pt]\n",
      "B-LOC & 78.92 (\\pm{3.28}) & 75.79 (\\pm{2.30}) 77.28 (\\pm{1.99}) & 185 \\\\ [2pt]\n",
      "I-ORG & 72.26 (\\pm{2.23}) & 92.05 (\\pm{1.53}) 80.92 (\\pm{1.16}) & 248 \\\\ [2pt]\n",
      "I-EVT & 40.00 (\\pm{25.50}) & 25.90 (\\pm{18.22}) 30.62 (\\pm{20.01}) & 4 \\\\ [2pt]\n"
     ]
    }
   ],
   "source": [
    "lst = ['B-GPE_LOC', 'I-DRV', 'I-LOC', 'B-PER', 'I-PER', 'B-PROD', \n",
    "                'I-GPE_ORG', 'B-GPE_ORG', 'B-EVT', 'B-DRV', 'I-PROD', 'B-ORG', 'B-MISC',\n",
    "                'I-MISC', 'I-GPE_LOC', 'B-LOC', 'I-ORG', 'I-EVT']\n",
    "d = {}\n",
    "for name in lst:\n",
    "    for key, v in files_iob.items():\n",
    "        if key==\"nbailab-base-ner-scandi.csv\":\n",
    "            d[name]=extract_rows(v, name, IOB2=True)\n",
    "\n",
    "all_latex = []\n",
    "for k, v in d.items():\n",
    "    latex = get_sd_from_extracted_rows_keys(v, k)\n",
    "    all_latex.append(latex)\n",
    "\n",
    "for latex, name in zip(all_latex, lst):\n",
    "    for i1 in latex:\n",
    "        if i1==latex[0]:\n",
    "            print(f\"{name} & {i1} &\", end=\" \")\n",
    "        elif i1!=latex[-1] and i1!=[0]:\n",
    "            print(f\"{i1}\", end=\" \")\n",
    "        else:\n",
    "            print(f\"& {i1[:-15]} \\\\\\\\ [2pt]\")"
   ]
  },
  {
   "cell_type": "code",
   "execution_count": 12,
   "metadata": {},
   "outputs": [
    {
     "name": "stdout",
     "output_type": "stream",
     "text": [
      "\n",
      "norbert\n",
      "precision: Average = 82.58, Standard Deviation = 0.58\n",
      "recall: Average = 83.69, Standard Deviation = 1.98\n",
      "f1: Average = 83.12, Standard Deviation = 1.10\n",
      "support: Average = 3468.00, Standard Deviation = 0.00\n",
      "\n",
      "nbailab-base-ner-scandi\n",
      "precision: Average = 86.35, Standard Deviation = 0.64\n",
      "recall: Average = 87.79, Standard Deviation = 0.49\n",
      "f1: Average = 87.06, Standard Deviation = 0.56\n",
      "support: Average = 3468.00, Standard Deviation = 0.00\n",
      "\n",
      "bert-base-multilingual-cased\n",
      "precision: Average = 80.54, Standard Deviation = 1.03\n",
      "recall: Average = 83.84, Standard Deviation = 1.11\n",
      "f1: Average = 82.15, Standard Deviation = 0.50\n",
      "support: Average = 3468.00, Standard Deviation = 0.00\n",
      "\n",
      "norbert2\n",
      "precision: Average = 84.91, Standard Deviation = 0.47\n",
      "recall: Average = 86.00, Standard Deviation = 0.34\n",
      "f1: Average = 85.45, Standard Deviation = 0.23\n",
      "support: Average = 3468.00, Standard Deviation = 0.00\n",
      "\n",
      "nb-bert-base\n",
      "precision: Average = 86.83, Standard Deviation = 0.80\n",
      "recall: Average = 87.19, Standard Deviation = 0.45\n",
      "f1: Average = 87.00, Standard Deviation = 0.30\n",
      "support: Average = 3468.00, Standard Deviation = 0.00\n"
     ]
    }
   ],
   "source": [
    "for k, v in files_iob.items():\n",
    "    model_name=k.split(\".\")[0]\n",
    "    iob2_data = extract_rows(v, \"micro avg\", IOB2=True)\n",
    "    print()\n",
    "    print(model_name)\n",
    "    for key in iob2_data:\n",
    "        values = [float(x) for x in iob2_data[key]]\n",
    "        avg = np.mean(values)\n",
    "        std = np.std(values)\n",
    "        print(f\"{key}: Average = {avg:.2f}, Standard Deviation = {std:.2f}\")"
   ]
  },
  {
   "cell_type": "code",
   "execution_count": 371,
   "metadata": {},
   "outputs": [
    {
     "data": {
      "text/plain": [
       "11"
      ]
     },
     "execution_count": 371,
     "metadata": {},
     "output_type": "execute_result"
    }
   ],
   "source": [
    "len(\"(\\pm{0.00})\")"
   ]
  },
  {
   "cell_type": "code",
   "execution_count": null,
   "metadata": {},
   "outputs": [
    {
     "name": "stdout",
     "output_type": "stream",
     "text": [
      "\n",
      "norbert\n",
      "precision: Average = 96.04, Standard Deviation = 0.45\n",
      "recall: Average = 96.61, Standard Deviation = 0.56\n",
      "f1: Average = 96.32, Standard Deviation = 0.10\n",
      "\n",
      "nbailab-base-ner-scandi\n",
      "precision: Average = 96.71, Standard Deviation = 0.16\n",
      "recall: Average = 97.44, Standard Deviation = 0.12\n",
      "f1: Average = 97.07, Standard Deviation = 0.13\n",
      "\n",
      "bert-base-multilingual-cased\n",
      "precision: Average = 94.68, Standard Deviation = 0.51\n",
      "recall: Average = 96.38, Standard Deviation = 0.49\n",
      "f1: Average = 95.51, Standard Deviation = 0.10\n",
      "\n",
      "norbert2\n",
      "precision: Average = 96.21, Standard Deviation = 0.17\n",
      "recall: Average = 96.76, Standard Deviation = 0.21\n",
      "f1: Average = 96.48, Standard Deviation = 0.08\n",
      "\n",
      "nb-bert-base\n",
      "precision: Average = 96.98, Standard Deviation = 0.34\n",
      "recall: Average = 97.16, Standard Deviation = 0.27\n",
      "f1: Average = 97.06, Standard Deviation = 0.09\n"
     ]
    }
   ],
   "source": [
    "for k, v in files.items():\n",
    "    model_name=k.split(\".\")[0]\n",
    "    data = extract_rows(v, row_type=\"macro avg\", binary=True)\n",
    "    print()\n",
    "    print(model_name)\n",
    "    for key in data:\n",
    "        values = [float(x) for x in data[key]]\n",
    "        avg = np.mean(values)\n",
    "        std = np.std(values)\n",
    "        print(f\"{key}: Average = {avg:.2f}, Standard Deviation = {std:.2f}\")"
   ]
  }
 ],
 "metadata": {
  "kernelspec": {
   "display_name": "Python 3",
   "language": "python",
   "name": "python3"
  },
  "language_info": {
   "codemirror_mode": {
    "name": "ipython",
    "version": 3
   },
   "file_extension": ".py",
   "mimetype": "text/x-python",
   "name": "python",
   "nbconvert_exporter": "python",
   "pygments_lexer": "ipython3",
   "version": "3.7.0"
  },
  "orig_nbformat": 4,
  "vscode": {
   "interpreter": {
    "hash": "aee8b7b246df8f9039afb4144a1f6fd8d2ca17a180786b69acc140d282b71a49"
   }
  }
 },
 "nbformat": 4,
 "nbformat_minor": 2
}
