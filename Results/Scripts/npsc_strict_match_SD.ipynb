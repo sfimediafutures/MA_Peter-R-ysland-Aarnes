{
 "cells": [
  {
   "cell_type": "code",
   "execution_count": 18,
   "metadata": {},
   "outputs": [],
   "source": [
    "import csv\n",
    "import os\n",
    "import numpy as np\n",
    "import pandas as pd\n",
    "\n",
    "def find_files(root_dir, binary=None, iob=None):\n",
    "    file_paths = {}\n",
    "    for dir_name, subdir_list, file_list in os.walk(root_dir):\n",
    "        for file_name in file_list:\n",
    "            # if binary:\n",
    "            #     if 'norne_CR_binary_' in file_name:\n",
    "            #         file_path = os.path.join(dir_name, file_name)\n",
    "            #         key = file_name.replace('norne_CR_binary_', '')\n",
    "            #         file_paths[key] = file_path\n",
    "            if iob:\n",
    "                if \"NSPC_SAMPLES_CR_IOB2_\" in file_name:\n",
    "                    file_path = os.path.join(dir_name, file_name)\n",
    "                    key = file_name.replace('NSPC_SAMPLES_CR_IOB2_', '')\n",
    "                    file_paths[key] = file_path\n",
    "    return file_paths\n",
    "\n",
    "\n",
    "\n"
   ]
  },
  {
   "cell_type": "code",
   "execution_count": 19,
   "metadata": {},
   "outputs": [],
   "source": [
    "root_directory = '/Users/aarnes/Documents/GitHub/MA_Peter-R-ysland-Aarnes/IOB NPSC sample'\n",
    "files = find_files(root_directory, binary=True)\n",
    "files_iob = find_files(root_directory, iob=True)"
   ]
  },
  {
   "cell_type": "code",
   "execution_count": 20,
   "metadata": {},
   "outputs": [
    {
     "data": {
      "text/plain": [
       "{'norbert.csv': '/Users/aarnes/Documents/GitHub/MA_Peter-R-ysland-Aarnes/IOB NPSC sample/norbert/NSPC_SAMPLES_CR_IOB2_norbert.csv',\n",
       " 'nbailab-base-ner-scandi.csv': '/Users/aarnes/Documents/GitHub/MA_Peter-R-ysland-Aarnes/IOB NPSC sample/nbailab-base-ner-scandi/NSPC_SAMPLES_CR_IOB2_nbailab-base-ner-scandi.csv',\n",
       " 'norbert2.csv': '/Users/aarnes/Documents/GitHub/MA_Peter-R-ysland-Aarnes/IOB NPSC sample/norbert2/NSPC_SAMPLES_CR_IOB2_norbert2.csv',\n",
       " 'nb-bert-base.csv': '/Users/aarnes/Documents/GitHub/MA_Peter-R-ysland-Aarnes/IOB NPSC sample/nb-bert-base/NSPC_SAMPLES_CR_IOB2_nb-bert-base.csv',\n",
       " 'mbert.csv': '/Users/aarnes/Documents/GitHub/MA_Peter-R-ysland-Aarnes/IOB NPSC sample/mbert/NSPC_SAMPLES_CR_IOB2_mbert.csv'}"
      ]
     },
     "execution_count": 20,
     "metadata": {},
     "output_type": "execute_result"
    }
   ],
   "source": [
    "files_iob"
   ]
  },
  {
   "cell_type": "code",
   "execution_count": 21,
   "metadata": {},
   "outputs": [
    {
     "data": {
      "text/plain": [
       "{}"
      ]
     },
     "execution_count": 21,
     "metadata": {},
     "output_type": "execute_result"
    }
   ],
   "source": [
    "files"
   ]
  },
  {
   "cell_type": "code",
   "execution_count": 22,
   "metadata": {},
   "outputs": [
    {
     "data": {
      "text/plain": [
       "'norbert'"
      ]
     },
     "execution_count": 22,
     "metadata": {},
     "output_type": "execute_result"
    }
   ],
   "source": [
    "\"norbert.csv\".split(\".\")[0]"
   ]
  },
  {
   "cell_type": "code",
   "execution_count": 23,
   "metadata": {},
   "outputs": [],
   "source": [
    "def extract_rows(file_path, row_type, binary=None, IOB2=None): #row type \"macro_avg\" etc\n",
    "    with open(file_path, 'r') as file:\n",
    "        reader = csv.reader(file)\n",
    "        r, p, f1, s = [],[],[], []\n",
    "        for row in reader:\n",
    "            d = {}\n",
    "            if len(row) > 0 and row[0] == row_type and binary:\n",
    "                r.append(float(row[1])*100)\n",
    "                p.append(float(row[2])*100)\n",
    "                f1.append(float(row[3])*100)\n",
    "            elif len(row) > 0 and row[0] == row_type and IOB2:\n",
    "                r.append(float(row[1])*100)\n",
    "                p.append(float(row[2])*100)\n",
    "                f1.append(float(row[3])*100)\n",
    "                s.append(int(float(row[4])))\n",
    "        d[f\"precision\"]=p\n",
    "        d[\"recall\"]=r\n",
    "        d[f\"f1\"]=f1\n",
    "        d[f\"support\"]=s\n",
    "    return d\n"
   ]
  },
  {
   "cell_type": "code",
   "execution_count": null,
   "metadata": {},
   "outputs": [],
   "source": []
  },
  {
   "cell_type": "code",
   "execution_count": 24,
   "metadata": {},
   "outputs": [],
   "source": [
    "def get_sd_from_extracted_rows_keys(iob2_data, key):\n",
    "    texts = []\n",
    "    latex = []\n",
    "    model_name=key.split(\".\")[0]\n",
    "\n",
    "    print(model_name)\n",
    "    for key in iob2_data:\n",
    "        values = [float(x) for x in iob2_data[key]]\n",
    "        avg = np.mean(values)\n",
    "        std = np.std(values)\n",
    "        text = (f\"{key}: Average = {avg:.2f}, Standard Deviation = {std:.2f}\")\n",
    "        latex_text = (f\"{avg:.2f} (\\pm{{{std:.2f}}})\")\n",
    "        texts.append(text)\n",
    "        latex.append(latex_text)\n",
    "    for i in texts:\n",
    "        print(i)\n",
    "    for t in latex:\n",
    "        if t!=latex[-1]:\n",
    "            print(f\"{t} & \", end=\"\")\n",
    "        else:\n",
    "            print(f\"{t} \\\\\\\\ [2pt]\")\n",
    "    print()\n",
    "\n",
    "    return latex"
   ]
  },
  {
   "cell_type": "code",
   "execution_count": 25,
   "metadata": {},
   "outputs": [
    {
     "name": "stdout",
     "output_type": "stream",
     "text": [
      "norbert\n",
      "precision: Average = 80.89, Standard Deviation = 2.19\n",
      "recall: Average = 77.24, Standard Deviation = 2.32\n",
      "f1: Average = 79.00, Standard Deviation = 1.74\n",
      "support: Average = 179.00, Standard Deviation = 0.00\n",
      "80.89 (\\pm{2.19}) & 77.24 (\\pm{2.32}) & 79.00 (\\pm{1.74}) & 179.00 (\\pm{0.00}) \\\\ [2pt]\n",
      "\n",
      "nbailab-base-ner-scandi\n",
      "precision: Average = 84.02, Standard Deviation = 1.25\n",
      "recall: Average = 78.35, Standard Deviation = 1.68\n",
      "f1: Average = 81.08, Standard Deviation = 1.33\n",
      "support: Average = 179.00, Standard Deviation = 0.00\n",
      "84.02 (\\pm{1.25}) & 78.35 (\\pm{1.68}) & 81.08 (\\pm{1.33}) & 179.00 (\\pm{0.00}) \\\\ [2pt]\n",
      "\n",
      "norbert2\n",
      "precision: Average = 79.33, Standard Deviation = 1.69\n",
      "recall: Average = 75.94, Standard Deviation = 0.52\n",
      "f1: Average = 77.59, Standard Deviation = 0.73\n",
      "support: Average = 179.00, Standard Deviation = 0.00\n",
      "79.33 (\\pm{1.69}) & 75.94 (\\pm{0.52}) & 77.59 (\\pm{0.73}) & 179.00 (\\pm{0.00}) \\\\ [2pt]\n",
      "\n",
      "nb-bert-base\n",
      "precision: Average = 84.69, Standard Deviation = 1.15\n",
      "recall: Average = 80.05, Standard Deviation = 1.01\n",
      "f1: Average = 82.30, Standard Deviation = 0.84\n",
      "support: Average = 179.00, Standard Deviation = 0.00\n",
      "84.69 (\\pm{1.15}) & 80.05 (\\pm{1.01}) & 82.30 (\\pm{0.84}) & 179.00 (\\pm{0.00}) \\\\ [2pt]\n",
      "\n",
      "mbert\n",
      "precision: Average = 80.67, Standard Deviation = 1.15\n",
      "recall: Average = 79.90, Standard Deviation = 1.43\n",
      "f1: Average = 80.27, Standard Deviation = 0.87\n",
      "support: Average = 179.00, Standard Deviation = 0.00\n",
      "80.67 (\\pm{1.15}) & 79.90 (\\pm{1.43}) & 80.27 (\\pm{0.87}) & 179.00 (\\pm{0.00}) \\\\ [2pt]\n",
      "\n"
     ]
    }
   ],
   "source": [
    "for key, v in files_iob.items():\n",
    "    iob2_data = extract_rows(v, \"micro avg\", IOB2=True)\n",
    "    get_sd_from_extracted_rows_keys(iob2_data, key)"
   ]
  },
  {
   "cell_type": "code",
   "execution_count": 26,
   "metadata": {},
   "outputs": [
    {
     "name": "stdout",
     "output_type": "stream",
     "text": [
      "nbailab-base-ner-scandi\n",
      "precision: Average = 84.02, Standard Deviation = 1.25\n",
      "recall: Average = 78.35, Standard Deviation = 1.68\n",
      "f1: Average = 81.08, Standard Deviation = 1.33\n",
      "support: Average = 179.00, Standard Deviation = 0.00\n",
      "84.02 (\\pm{1.25}) & 78.35 (\\pm{1.68}) & 81.08 (\\pm{1.33}) & 179.00 (\\pm{0.00}) \\\\ [2pt]\n",
      "\n"
     ]
    }
   ],
   "source": [
    "for key, v in files_iob.items():\n",
    "    if key==\"nbailab-base-ner-scandi.csv\":\n",
    "        iob2_data = extract_rows(v, \"micro avg\", IOB2=True)\n",
    "        get_sd_from_extracted_rows_keys(iob2_data, key)"
   ]
  },
  {
   "cell_type": "code",
   "execution_count": 28,
   "metadata": {},
   "outputs": [
    {
     "name": "stdout",
     "output_type": "stream",
     "text": [
      "PER\n",
      "precision: Average = 92.09, Standard Deviation = 2.37\n",
      "recall: Average = 92.14, Standard Deviation = 3.33\n",
      "f1: Average = 92.11, Standard Deviation = 2.73\n",
      "support: Average = 43.00, Standard Deviation = 0.00\n",
      "92.09 (\\pm{2.37}) & 92.14 (\\pm{3.33}) & 92.11 (\\pm{2.73}) & 43.00 (\\pm{0.00}) \\\\ [2pt]\n",
      "\n",
      "LOC\n",
      "precision: Average = 100.00, Standard Deviation = 0.00\n",
      "recall: Average = 37.33, Standard Deviation = 3.27\n",
      "f1: Average = 54.29, Standard Deviation = 3.50\n",
      "support: Average = 2.00, Standard Deviation = 0.00\n",
      "100.00 (\\pm{0.00}) & 37.33 (\\pm{3.27}) & 54.29 (\\pm{3.50}) & 2.00 (\\pm{0.00}) \\\\ [2pt]\n",
      "\n",
      "ORG\n",
      "precision: Average = 85.97, Standard Deviation = 4.14\n",
      "recall: Average = 77.19, Standard Deviation = 1.19\n",
      "f1: Average = 81.29, Standard Deviation = 1.69\n",
      "support: Average = 77.00, Standard Deviation = 0.00\n",
      "85.97 (\\pm{4.14}) & 77.19 (\\pm{1.19}) & 81.29 (\\pm{1.69}) & 77.00 (\\pm{0.00}) \\\\ [2pt]\n",
      "\n",
      "GPE_LOC\n",
      "precision: Average = 85.00, Standard Deviation = 1.43\n",
      "recall: Average = 81.73, Standard Deviation = 3.77\n",
      "f1: Average = 83.25, Standard Deviation = 1.32\n",
      "support: Average = 28.00, Standard Deviation = 0.00\n",
      "85.00 (\\pm{1.43}) & 81.73 (\\pm{3.77}) & 83.25 (\\pm{1.32}) & 28.00 (\\pm{0.00}) \\\\ [2pt]\n",
      "\n",
      "GPE_ORG\n",
      "precision: Average = 73.00, Standard Deviation = 2.45\n",
      "recall: Average = 89.18, Standard Deviation = 4.16\n",
      "f1: Average = 80.23, Standard Deviation = 2.52\n",
      "support: Average = 20.00, Standard Deviation = 0.00\n",
      "73.00 (\\pm{2.45}) & 89.18 (\\pm{4.16}) & 80.23 (\\pm{2.52}) & 20.00 (\\pm{0.00}) \\\\ [2pt]\n",
      "\n",
      "PROD\n",
      "precision: Average = 88.00, Standard Deviation = 9.80\n",
      "recall: Average = 54.76, Standard Deviation = 7.45\n",
      "f1: Average = 66.93, Standard Deviation = 5.47\n",
      "support: Average = 5.00, Standard Deviation = 0.00\n",
      "88.00 (\\pm{9.80}) & 54.76 (\\pm{7.45}) & 66.93 (\\pm{5.47}) & 5.00 (\\pm{0.00}) \\\\ [2pt]\n",
      "\n",
      "EVT\n",
      "precision: Average = nan, Standard Deviation = nan\n",
      "recall: Average = nan, Standard Deviation = nan\n",
      "f1: Average = nan, Standard Deviation = nan\n",
      "support: Average = nan, Standard Deviation = nan\n",
      "nan (\\pm{nan}) \\\\ [2pt]\n",
      "nan (\\pm{nan}) \\\\ [2pt]\n",
      "nan (\\pm{nan}) \\\\ [2pt]\n",
      "nan (\\pm{nan}) \\\\ [2pt]\n",
      "\n",
      "DRV\n",
      "precision: Average = 33.33, Standard Deviation = 0.00\n",
      "recall: Average = 80.00, Standard Deviation = 24.49\n",
      "f1: Average = 46.00, Standard Deviation = 4.90\n",
      "support: Average = 3.00, Standard Deviation = 0.00\n",
      "33.33 (\\pm{0.00}) & 80.00 (\\pm{24.49}) & 46.00 (\\pm{4.90}) & 3.00 (\\pm{0.00}) \\\\ [2pt]\n",
      "\n",
      "MISC\n",
      "precision: Average = 0.00, Standard Deviation = 0.00\n",
      "recall: Average = 0.00, Standard Deviation = 0.00\n",
      "f1: Average = 0.00, Standard Deviation = 0.00\n",
      "support: Average = 1.00, Standard Deviation = 0.00\n",
      "0.00 (\\pm{0.00}) & 0.00 (\\pm{0.00}) & 0.00 (\\pm{0.00}) & 1.00 (\\pm{0.00}) \\\\ [2pt]\n",
      "\n",
      "micro avg\n",
      "precision: Average = 84.69, Standard Deviation = 1.15\n",
      "recall: Average = 80.05, Standard Deviation = 1.01\n",
      "f1: Average = 82.30, Standard Deviation = 0.84\n",
      "support: Average = 179.00, Standard Deviation = 0.00\n",
      "84.69 (\\pm{1.15}) & 80.05 (\\pm{1.01}) & 82.30 (\\pm{0.84}) & 179.00 (\\pm{0.00}) \\\\ [2pt]\n",
      "\n",
      "PER & 92.09 (\\pm{2.37}) & 92.14 (\\pm{3.33}) 92.11 (\\pm{2.73}) & 43 \\\\ [2pt]\n",
      "LOC & 100.00 (\\pm{0.00}) & 37.33 (\\pm{3.27}) 54.29 (\\pm{3.50}) & 2 \\\\ [2pt]\n",
      "ORG & 85.97 (\\pm{4.14}) & 77.19 (\\pm{1.19}) 81.29 (\\pm{1.69}) & 77 \\\\ [2pt]\n",
      "GPE_LOC & 85.00 (\\pm{1.43}) & 81.73 (\\pm{3.77}) 83.25 (\\pm{1.32}) & 28 \\\\ [2pt]\n",
      "GPE_ORG & 73.00 (\\pm{2.45}) & 89.18 (\\pm{4.16}) 80.23 (\\pm{2.52}) & 20 \\\\ [2pt]\n",
      "PROD & 88.00 (\\pm{9.80}) & 54.76 (\\pm{7.45}) 66.93 (\\pm{5.47}) & 5 \\\\ [2pt]\n",
      "EVT & nan (\\pm{nan}) & EVT & nan (\\pm{nan}) & EVT & nan (\\pm{nan}) & EVT & nan (\\pm{nan}) & DRV & 33.33 (\\pm{0.00}) & 80.00 (\\pm{24.49}) 46.00 (\\pm{4.90}) & 3 \\\\ [2pt]\n",
      "MISC & 0.00 (\\pm{0.00}) & MISC & 0.00 (\\pm{0.00}) & MISC & 0.00 (\\pm{0.00}) & & 1 \\\\ [2pt]\n",
      "micro avg & 84.69 (\\pm{1.15}) & 80.05 (\\pm{1.01}) 82.30 (\\pm{0.84}) & 179 \\\\ [2pt]\n"
     ]
    }
   ],
   "source": [
    "lst = [\"PER\", \"LOC\", \"ORG\", \"GPE_LOC\", \"GPE_ORG\", \"PROD\", \"EVT\", \"DRV\", \"MISC\", \"micro avg\"]\n",
    "d = {}\n",
    "for name in lst:\n",
    "    for key, v in files_iob.items():\n",
    "        if key==\"nb-bert-base.csv\":\n",
    "            d[name]=extract_rows(v, name, IOB2=True)\n",
    "\n",
    "all_latex = []\n",
    "for k, v in d.items():\n",
    "    latex = get_sd_from_extracted_rows_keys(v, k)\n",
    "    all_latex.append(latex)\n",
    "\n",
    "for latex, name in zip(all_latex, lst):\n",
    "    for i1 in latex:\n",
    "        if i1==latex[0]:\n",
    "            print(f\"{name} & {i1} &\", end=\" \")\n",
    "        elif i1!=latex[-1] and i1!=[0]:\n",
    "            print(f\"{i1}\", end=\" \")\n",
    "        else:\n",
    "            print(f\"& {i1[:-15]} \\\\\\\\ [2pt]\")"
   ]
  },
  {
   "cell_type": "code",
   "execution_count": 11,
   "metadata": {},
   "outputs": [],
   "source": [
    "for k, v in files_iob.items():\n",
    "    model_name=k.split(\".\")[0]\n",
    "    iob2_data = extract_rows(v, \"micro avg\", IOB2=True)\n",
    "    print()\n",
    "    print(model_name)\n",
    "    for key in iob2_data:\n",
    "        values = [float(x) for x in iob2_data[key]]\n",
    "        avg = np.mean(values)\n",
    "        std = np.std(values)\n",
    "        print(f\"{key}: Average = {avg:.2f}, Standard Deviation = {std:.2f}\")"
   ]
  },
  {
   "cell_type": "code",
   "execution_count": 12,
   "metadata": {},
   "outputs": [
    {
     "data": {
      "text/plain": [
       "11"
      ]
     },
     "execution_count": 12,
     "metadata": {},
     "output_type": "execute_result"
    }
   ],
   "source": [
    "len(\"(\\pm{0.00})\")"
   ]
  },
  {
   "cell_type": "code",
   "execution_count": 13,
   "metadata": {},
   "outputs": [],
   "source": [
    "for k, v in files.items():\n",
    "    model_name=k.split(\".\")[0]\n",
    "    data = extract_rows(v, row_type=\"macro avg\", binary=True)\n",
    "    print()\n",
    "    print(model_name)\n",
    "    for key in data:\n",
    "        values = [float(x) for x in data[key]]\n",
    "        avg = np.mean(values)\n",
    "        std = np.std(values)\n",
    "        print(f\"{key}: Average = {avg:.2f}, Standard Deviation = {std:.2f}\")"
   ]
  }
 ],
 "metadata": {
  "kernelspec": {
   "display_name": "Python 3",
   "language": "python",
   "name": "python3"
  },
  "language_info": {
   "codemirror_mode": {
    "name": "ipython",
    "version": 3
   },
   "file_extension": ".py",
   "mimetype": "text/x-python",
   "name": "python",
   "nbconvert_exporter": "python",
   "pygments_lexer": "ipython3",
   "version": "3.7.0"
  },
  "orig_nbformat": 4,
  "vscode": {
   "interpreter": {
    "hash": "aee8b7b246df8f9039afb4144a1f6fd8d2ca17a180786b69acc140d282b71a49"
   }
  }
 },
 "nbformat": 4,
 "nbformat_minor": 2
}
