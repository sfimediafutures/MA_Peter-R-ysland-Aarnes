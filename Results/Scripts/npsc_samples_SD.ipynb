{
 "cells": [
  {
   "cell_type": "code",
   "execution_count": 31,
   "metadata": {},
   "outputs": [],
   "source": [
    "import csv\n",
    "import os\n",
    "import numpy as np\n",
    "import pandas as pd\n",
    "\n",
    "def find_files(root_dir, binary=None, iob=None):\n",
    "    file_paths = {}\n",
    "    for dir_name, subdir_list, file_list in os.walk(root_dir):\n",
    "        for file_name in file_list:\n",
    "            if binary:\n",
    "                if 'NSPC_SAMPLES_CR_binary_' in file_name:\n",
    "                    file_path = os.path.join(dir_name, file_name)\n",
    "                    key = file_name.replace('NSPC_SAMPLES_CR_binary_', '')\n",
    "                    file_paths[key] = file_path\n",
    "            if iob:\n",
    "                if \"NSPC_SAMPLES_CR_all_labels_\" in file_name:\n",
    "                    file_path = os.path.join(dir_name, file_name)\n",
    "                    key = file_name.replace('NSPC_SAMPLES_CR_IOB2_', '')\n",
    "                    file_paths[key] = file_path\n",
    "    return file_paths\n",
    "\n",
    "\n",
    "\n"
   ]
  },
  {
   "cell_type": "code",
   "execution_count": 32,
   "metadata": {},
   "outputs": [],
   "source": [
    "root_directory = '/Users/aarnes/Documents/GitHub/MA_Peter-R-ysland-Aarnes/IOB NPSC sample'\n",
    "files = find_files(root_directory, binary=True)\n",
    "files_iob = find_files(root_directory, iob=True)"
   ]
  },
  {
   "cell_type": "code",
   "execution_count": 33,
   "metadata": {},
   "outputs": [
    {
     "data": {
      "text/plain": [
       "{'NSPC_SAMPLES_CR_all_labels_norbert.csv': '/Users/aarnes/Documents/GitHub/MA_Peter-R-ysland-Aarnes/IOB NPSC sample/norbert/NSPC_SAMPLES_CR_all_labels_norbert.csv',\n",
       " 'NSPC_SAMPLES_CR_all_labels_nbailab-base-ner-scandi.csv': '/Users/aarnes/Documents/GitHub/MA_Peter-R-ysland-Aarnes/IOB NPSC sample/nbailab-base-ner-scandi/NSPC_SAMPLES_CR_all_labels_nbailab-base-ner-scandi.csv',\n",
       " 'NSPC_SAMPLES_CR_all_labels_norbert2.csv': '/Users/aarnes/Documents/GitHub/MA_Peter-R-ysland-Aarnes/IOB NPSC sample/norbert2/NSPC_SAMPLES_CR_all_labels_norbert2.csv',\n",
       " 'NSPC_SAMPLES_CR_all_labels_nb-bert-base.csv': '/Users/aarnes/Documents/GitHub/MA_Peter-R-ysland-Aarnes/IOB NPSC sample/nb-bert-base/NSPC_SAMPLES_CR_all_labels_nb-bert-base.csv',\n",
       " 'NSPC_SAMPLES_CR_all_labels_mbert.csv': '/Users/aarnes/Documents/GitHub/MA_Peter-R-ysland-Aarnes/IOB NPSC sample/mbert/NSPC_SAMPLES_CR_all_labels_mbert.csv'}"
      ]
     },
     "execution_count": 33,
     "metadata": {},
     "output_type": "execute_result"
    }
   ],
   "source": [
    "files_iob"
   ]
  },
  {
   "cell_type": "code",
   "execution_count": 34,
   "metadata": {},
   "outputs": [
    {
     "data": {
      "text/plain": [
       "{'norbert.csv': '/Users/aarnes/Documents/GitHub/MA_Peter-R-ysland-Aarnes/IOB NPSC sample/norbert/NSPC_SAMPLES_CR_binary_norbert.csv',\n",
       " 'nbailab-base-ner-scandi.csv': '/Users/aarnes/Documents/GitHub/MA_Peter-R-ysland-Aarnes/IOB NPSC sample/nbailab-base-ner-scandi/NSPC_SAMPLES_CR_binary_nbailab-base-ner-scandi.csv',\n",
       " 'norbert2.csv': '/Users/aarnes/Documents/GitHub/MA_Peter-R-ysland-Aarnes/IOB NPSC sample/norbert2/NSPC_SAMPLES_CR_binary_norbert2.csv',\n",
       " 'nb-bert-base.csv': '/Users/aarnes/Documents/GitHub/MA_Peter-R-ysland-Aarnes/IOB NPSC sample/nb-bert-base/NSPC_SAMPLES_CR_binary_nb-bert-base.csv',\n",
       " 'mbert.csv': '/Users/aarnes/Documents/GitHub/MA_Peter-R-ysland-Aarnes/IOB NPSC sample/mbert/NSPC_SAMPLES_CR_binary_mbert.csv'}"
      ]
     },
     "execution_count": 34,
     "metadata": {},
     "output_type": "execute_result"
    }
   ],
   "source": [
    "files"
   ]
  },
  {
   "cell_type": "code",
   "execution_count": 35,
   "metadata": {},
   "outputs": [
    {
     "data": {
      "text/plain": [
       "'norbert'"
      ]
     },
     "execution_count": 35,
     "metadata": {},
     "output_type": "execute_result"
    }
   ],
   "source": [
    "\"norbert.csv\".split(\".\")[0]"
   ]
  },
  {
   "cell_type": "code",
   "execution_count": 36,
   "metadata": {},
   "outputs": [],
   "source": [
    "def extract_rows(file_path, row_type, binary=None, IOB2=None): #row type \"macro_avg\" etc\n",
    "    with open(file_path, 'r') as file:\n",
    "        reader = csv.reader(file)\n",
    "        r, p, f1, s = [],[],[], []\n",
    "        for row in reader:\n",
    "            d = {}\n",
    "            if len(row) > 0 and row[0] == row_type and binary:\n",
    "                r.append(float(row[1])*100)\n",
    "                p.append(float(row[2])*100)\n",
    "                f1.append(float(row[3])*100)\n",
    "            elif len(row) > 0 and row[0] == row_type and IOB2:\n",
    "                r.append(float(row[1])*100)\n",
    "                p.append(float(row[2])*100)\n",
    "                f1.append(float(row[3])*100)\n",
    "                s.append(int(float(row[4])))\n",
    "        d[f\"precision\"]=p\n",
    "        d[\"recall\"]=r\n",
    "        d[f\"f1\"]=f1\n",
    "        d[f\"support\"]=s\n",
    "    return d\n"
   ]
  },
  {
   "cell_type": "code",
   "execution_count": null,
   "metadata": {},
   "outputs": [],
   "source": []
  },
  {
   "cell_type": "code",
   "execution_count": 37,
   "metadata": {},
   "outputs": [],
   "source": [
    "def get_sd_from_extracted_rows_keys(iob2_data, key):\n",
    "    texts = []\n",
    "    latex = []\n",
    "    model_name=key.split(\".\")[0]\n",
    "\n",
    "    print(model_name)\n",
    "    for key in iob2_data:\n",
    "        values = [float(x) for x in iob2_data[key]]\n",
    "        avg = np.mean(values)\n",
    "        std = np.std(values)\n",
    "        text = (f\"{key}: Average = {avg:.2f}, Standard Deviation = {std:.2f}\")\n",
    "        latex_text = (f\"{avg:.2f} (\\pm{{{std:.2f}}})\")\n",
    "        texts.append(text)\n",
    "        latex.append(latex_text)\n",
    "    for i in texts:\n",
    "        print(i)\n",
    "    for t in latex:\n",
    "        if t!=latex[-1]:\n",
    "            print(f\"{t} & \", end=\"\")\n",
    "        else:\n",
    "            print(f\"{t} \\\\\\\\ [2pt]\")\n",
    "    print()\n",
    "\n",
    "    return latex"
   ]
  },
  {
   "cell_type": "code",
   "execution_count": 38,
   "metadata": {},
   "outputs": [
    {
     "name": "stdout",
     "output_type": "stream",
     "text": [
      "NSPC_SAMPLES_CR_all_labels_norbert\n",
      "precision: Average = 84.17, Standard Deviation = 2.08\n",
      "recall: Average = 79.43, Standard Deviation = 2.15\n",
      "f1: Average = 81.71, Standard Deviation = 1.74\n",
      "support: Average = 216.00, Standard Deviation = 0.00\n",
      "84.17 (\\pm{2.08}) & 79.43 (\\pm{2.15}) & 81.71 (\\pm{1.74}) & 216.00 (\\pm{0.00}) \\\\ [2pt]\n",
      "\n",
      "NSPC_SAMPLES_CR_all_labels_nbailab-base-ner-scandi\n",
      "precision: Average = 87.59, Standard Deviation = 0.80\n",
      "recall: Average = 80.18, Standard Deviation = 1.34\n",
      "f1: Average = 83.72, Standard Deviation = 1.00\n",
      "support: Average = 216.00, Standard Deviation = 0.00\n",
      "87.59 (\\pm{0.80}) & 80.18 (\\pm{1.34}) & 83.72 (\\pm{1.00}) & 216.00 (\\pm{0.00}) \\\\ [2pt]\n",
      "\n",
      "NSPC_SAMPLES_CR_all_labels_norbert2\n",
      "precision: Average = 82.87, Standard Deviation = 1.78\n",
      "recall: Average = 78.79, Standard Deviation = 0.48\n",
      "f1: Average = 80.77, Standard Deviation = 0.81\n",
      "support: Average = 216.00, Standard Deviation = 0.00\n",
      "82.87 (\\pm{1.78}) & 78.79 (\\pm{0.48}) & 80.77 (\\pm{0.81}) & 216.00 (\\pm{0.00}) \\\\ [2pt]\n",
      "\n",
      "NSPC_SAMPLES_CR_all_labels_nb-bert-base\n",
      "precision: Average = 87.96, Standard Deviation = 0.77\n",
      "recall: Average = 81.20, Standard Deviation = 0.60\n",
      "f1: Average = 84.44, Standard Deviation = 0.55\n",
      "support: Average = 216.00, Standard Deviation = 0.00\n",
      "87.96 (\\pm{0.77}) & 81.20 (\\pm{0.60}) & 84.44 (\\pm{0.55}) & 216.00 (\\pm{0.00}) \\\\ [2pt]\n",
      "\n",
      "NSPC_SAMPLES_CR_all_labels_mbert\n",
      "precision: Average = 82.41, Standard Deviation = 1.10\n",
      "recall: Average = 81.38, Standard Deviation = 1.26\n",
      "f1: Average = 81.88, Standard Deviation = 0.67\n",
      "support: Average = 216.00, Standard Deviation = 0.00\n",
      "82.41 (\\pm{1.10}) & 81.38 (\\pm{1.26}) & 81.88 (\\pm{0.67}) & 216.00 (\\pm{0.00}) \\\\ [2pt]\n",
      "\n"
     ]
    }
   ],
   "source": [
    "for key, v in files_iob.items():\n",
    "    iob2_data = extract_rows(v, \"micro avg\", IOB2=True)\n",
    "    get_sd_from_extracted_rows_keys(iob2_data, key)"
   ]
  },
  {
   "cell_type": "code",
   "execution_count": 46,
   "metadata": {},
   "outputs": [],
   "source": [
    "for key, v in files_iob.items():\n",
    "    if key==\"nbailab-base-ner-scandi.csv\":\n",
    "        iob2_data = extract_rows(v, \"micro avg\", IOB2=True)\n",
    "        get_sd_from_extracted_rows_keys(iob2_data, key)"
   ]
  },
  {
   "cell_type": "code",
   "execution_count": 49,
   "metadata": {},
   "outputs": [
    {
     "name": "stdout",
     "output_type": "stream",
     "text": [
      "B-GPE_LOC\n",
      "precision: Average = 88.57, Standard Deviation = 2.67\n",
      "recall: Average = 85.12, Standard Deviation = 3.61\n",
      "f1: Average = 86.73, Standard Deviation = 1.65\n",
      "support: Average = 28.00, Standard Deviation = 0.00\n",
      "88.57 (\\pm{2.67}) & 85.12 (\\pm{3.61}) & 86.73 (\\pm{1.65}) & 28.00 (\\pm{0.00}) \\\\ [2pt]\n",
      "\n",
      "I-DRV\n",
      "precision: Average = 0.00, Standard Deviation = 0.00\n",
      "recall: Average = 0.00, Standard Deviation = 0.00\n",
      "f1: Average = 0.00, Standard Deviation = 0.00\n",
      "support: Average = 0.00, Standard Deviation = 0.00\n",
      "0.00 (\\pm{0.00}) \\\\ [2pt]\n",
      "0.00 (\\pm{0.00}) \\\\ [2pt]\n",
      "0.00 (\\pm{0.00}) \\\\ [2pt]\n",
      "0.00 (\\pm{0.00}) \\\\ [2pt]\n",
      "\n",
      "I-LOC\n",
      "precision: Average = 0.00, Standard Deviation = 0.00\n",
      "recall: Average = 0.00, Standard Deviation = 0.00\n",
      "f1: Average = 0.00, Standard Deviation = 0.00\n",
      "support: Average = 0.00, Standard Deviation = 0.00\n",
      "0.00 (\\pm{0.00}) \\\\ [2pt]\n",
      "0.00 (\\pm{0.00}) \\\\ [2pt]\n",
      "0.00 (\\pm{0.00}) \\\\ [2pt]\n",
      "0.00 (\\pm{0.00}) \\\\ [2pt]\n",
      "\n",
      "B-PER\n",
      "precision: Average = 93.02, Standard Deviation = 2.08\n",
      "recall: Average = 93.05, Standard Deviation = 2.43\n",
      "f1: Average = 93.03, Standard Deviation = 2.05\n",
      "support: Average = 43.00, Standard Deviation = 0.00\n",
      "93.02 (\\pm{2.08}) & 93.05 (\\pm{2.43}) & 93.03 (\\pm{2.05}) & 43.00 (\\pm{0.00}) \\\\ [2pt]\n",
      "\n",
      "I-PER\n",
      "precision: Average = 97.00, Standard Deviation = 4.00\n",
      "recall: Average = 100.00, Standard Deviation = 0.00\n",
      "f1: Average = 98.43, Standard Deviation = 2.10\n",
      "support: Average = 20.00, Standard Deviation = 0.00\n",
      "97.00 (\\pm{4.00}) & 100.00 (\\pm{0.00}) & 98.43 (\\pm{2.10}) & 20.00 (\\pm{0.00}) \\\\ [2pt]\n",
      "\n",
      "B-PROD\n",
      "precision: Average = 88.00, Standard Deviation = 9.80\n",
      "recall: Average = 54.76, Standard Deviation = 7.45\n",
      "f1: Average = 66.93, Standard Deviation = 5.47\n",
      "support: Average = 5.00, Standard Deviation = 0.00\n",
      "88.00 (\\pm{9.80}) & 54.76 (\\pm{7.45}) & 66.93 (\\pm{5.47}) & 5.00 (\\pm{0.00}) \\\\ [2pt]\n",
      "\n",
      "I-GPE_ORG\n",
      "precision: Average = 0.00, Standard Deviation = 0.00\n",
      "recall: Average = 0.00, Standard Deviation = 0.00\n",
      "f1: Average = 0.00, Standard Deviation = 0.00\n",
      "support: Average = 0.00, Standard Deviation = 0.00\n",
      "0.00 (\\pm{0.00}) \\\\ [2pt]\n",
      "0.00 (\\pm{0.00}) \\\\ [2pt]\n",
      "0.00 (\\pm{0.00}) \\\\ [2pt]\n",
      "0.00 (\\pm{0.00}) \\\\ [2pt]\n",
      "\n",
      "B-GPE_ORG\n",
      "precision: Average = 73.00, Standard Deviation = 2.45\n",
      "recall: Average = 89.18, Standard Deviation = 4.16\n",
      "f1: Average = 80.23, Standard Deviation = 2.52\n",
      "support: Average = 20.00, Standard Deviation = 0.00\n",
      "73.00 (\\pm{2.45}) & 89.18 (\\pm{4.16}) & 80.23 (\\pm{2.52}) & 20.00 (\\pm{0.00}) \\\\ [2pt]\n",
      "\n",
      "B-EVT\n",
      "precision: Average = 0.00, Standard Deviation = 0.00\n",
      "recall: Average = 0.00, Standard Deviation = 0.00\n",
      "f1: Average = 0.00, Standard Deviation = 0.00\n",
      "support: Average = 0.00, Standard Deviation = 0.00\n",
      "0.00 (\\pm{0.00}) \\\\ [2pt]\n",
      "0.00 (\\pm{0.00}) \\\\ [2pt]\n",
      "0.00 (\\pm{0.00}) \\\\ [2pt]\n",
      "0.00 (\\pm{0.00}) \\\\ [2pt]\n",
      "\n",
      "B-DRV\n",
      "precision: Average = 33.33, Standard Deviation = 0.00\n",
      "recall: Average = 80.00, Standard Deviation = 24.49\n",
      "f1: Average = 46.00, Standard Deviation = 4.90\n",
      "support: Average = 3.00, Standard Deviation = 0.00\n",
      "33.33 (\\pm{0.00}) & 80.00 (\\pm{24.49}) & 46.00 (\\pm{4.90}) & 3.00 (\\pm{0.00}) \\\\ [2pt]\n",
      "\n",
      "I-PROD\n",
      "precision: Average = 0.00, Standard Deviation = 0.00\n",
      "recall: Average = 0.00, Standard Deviation = 0.00\n",
      "f1: Average = 0.00, Standard Deviation = 0.00\n",
      "support: Average = 0.00, Standard Deviation = 0.00\n",
      "0.00 (\\pm{0.00}) \\\\ [2pt]\n",
      "0.00 (\\pm{0.00}) \\\\ [2pt]\n",
      "0.00 (\\pm{0.00}) \\\\ [2pt]\n",
      "0.00 (\\pm{0.00}) \\\\ [2pt]\n",
      "\n",
      "B-ORG\n",
      "precision: Average = 89.35, Standard Deviation = 3.22\n",
      "recall: Average = 80.28, Standard Deviation = 1.80\n",
      "f1: Average = 84.51, Standard Deviation = 0.95\n",
      "support: Average = 77.00, Standard Deviation = 0.00\n",
      "89.35 (\\pm{3.22}) & 80.28 (\\pm{1.80}) & 84.51 (\\pm{0.95}) & 77.00 (\\pm{0.00}) \\\\ [2pt]\n",
      "\n",
      "B-MISC\n",
      "precision: Average = 0.00, Standard Deviation = 0.00\n",
      "recall: Average = 0.00, Standard Deviation = 0.00\n",
      "f1: Average = 0.00, Standard Deviation = 0.00\n",
      "support: Average = 1.00, Standard Deviation = 0.00\n",
      "0.00 (\\pm{0.00}) & 0.00 (\\pm{0.00}) & 0.00 (\\pm{0.00}) & 1.00 (\\pm{0.00}) \\\\ [2pt]\n",
      "\n",
      "I-MISC\n",
      "precision: Average = 0.00, Standard Deviation = 0.00\n",
      "recall: Average = 0.00, Standard Deviation = 0.00\n",
      "f1: Average = 0.00, Standard Deviation = 0.00\n",
      "support: Average = 0.00, Standard Deviation = 0.00\n",
      "0.00 (\\pm{0.00}) \\\\ [2pt]\n",
      "0.00 (\\pm{0.00}) \\\\ [2pt]\n",
      "0.00 (\\pm{0.00}) \\\\ [2pt]\n",
      "0.00 (\\pm{0.00}) \\\\ [2pt]\n",
      "\n",
      "I-GPE_LOC\n",
      "precision: Average = 66.67, Standard Deviation = 0.00\n",
      "recall: Average = 92.00, Standard Deviation = 9.80\n",
      "f1: Average = 77.09, Standard Deviation = 3.56\n",
      "support: Average = 6.00, Standard Deviation = 0.00\n",
      "66.67 (\\pm{0.00}) & 92.00 (\\pm{9.80}) & 77.09 (\\pm{3.56}) & 6.00 (\\pm{0.00}) \\\\ [2pt]\n",
      "\n",
      "B-LOC\n",
      "precision: Average = 100.00, Standard Deviation = 0.00\n",
      "recall: Average = 37.33, Standard Deviation = 3.27\n",
      "f1: Average = 54.29, Standard Deviation = 3.50\n",
      "support: Average = 2.00, Standard Deviation = 0.00\n",
      "100.00 (\\pm{0.00}) & 37.33 (\\pm{3.27}) & 54.29 (\\pm{3.50}) & 2.00 (\\pm{0.00}) \\\\ [2pt]\n",
      "\n",
      "I-ORG\n",
      "precision: Average = 100.00, Standard Deviation = 0.00\n",
      "recall: Average = 65.17, Standard Deviation = 9.80\n",
      "f1: Average = 78.52, Standard Deviation = 6.65\n",
      "support: Average = 11.00, Standard Deviation = 0.00\n",
      "100.00 (\\pm{0.00}) & 65.17 (\\pm{9.80}) & 78.52 (\\pm{6.65}) & 11.00 (\\pm{0.00}) \\\\ [2pt]\n",
      "\n",
      "I-EVT\n",
      "precision: Average = 0.00, Standard Deviation = 0.00\n",
      "recall: Average = 0.00, Standard Deviation = 0.00\n",
      "f1: Average = 0.00, Standard Deviation = 0.00\n",
      "support: Average = 0.00, Standard Deviation = 0.00\n",
      "0.00 (\\pm{0.00}) \\\\ [2pt]\n",
      "0.00 (\\pm{0.00}) \\\\ [2pt]\n",
      "0.00 (\\pm{0.00}) \\\\ [2pt]\n",
      "0.00 (\\pm{0.00}) \\\\ [2pt]\n",
      "\n",
      "B-GPE_LOC & 88.57 (\\pm{2.67}) & 85.12 (\\pm{3.61}) 86.73 (\\pm{1.65}) & 28 \\\\ [2pt]\n",
      "I-DRV & 0.00 (\\pm{0.00}) & I-DRV & 0.00 (\\pm{0.00}) & I-DRV & 0.00 (\\pm{0.00}) & I-DRV & 0.00 (\\pm{0.00}) & I-LOC & 0.00 (\\pm{0.00}) & I-LOC & 0.00 (\\pm{0.00}) & I-LOC & 0.00 (\\pm{0.00}) & I-LOC & 0.00 (\\pm{0.00}) & B-PER & 93.02 (\\pm{2.08}) & 93.05 (\\pm{2.43}) 93.03 (\\pm{2.05}) & 43 \\\\ [2pt]\n",
      "I-PER & 97.00 (\\pm{4.00}) & 100.00 (\\pm{0.00}) 98.43 (\\pm{2.10}) & 20 \\\\ [2pt]\n",
      "B-PROD & 88.00 (\\pm{9.80}) & 54.76 (\\pm{7.45}) 66.93 (\\pm{5.47}) & 5 \\\\ [2pt]\n",
      "I-GPE_ORG & 0.00 (\\pm{0.00}) & I-GPE_ORG & 0.00 (\\pm{0.00}) & I-GPE_ORG & 0.00 (\\pm{0.00}) & I-GPE_ORG & 0.00 (\\pm{0.00}) & B-GPE_ORG & 73.00 (\\pm{2.45}) & 89.18 (\\pm{4.16}) 80.23 (\\pm{2.52}) & 20 \\\\ [2pt]\n",
      "B-EVT & 0.00 (\\pm{0.00}) & B-EVT & 0.00 (\\pm{0.00}) & B-EVT & 0.00 (\\pm{0.00}) & B-EVT & 0.00 (\\pm{0.00}) & B-DRV & 33.33 (\\pm{0.00}) & 80.00 (\\pm{24.49}) 46.00 (\\pm{4.90}) & 3 \\\\ [2pt]\n",
      "I-PROD & 0.00 (\\pm{0.00}) & I-PROD & 0.00 (\\pm{0.00}) & I-PROD & 0.00 (\\pm{0.00}) & I-PROD & 0.00 (\\pm{0.00}) & B-ORG & 89.35 (\\pm{3.22}) & 80.28 (\\pm{1.80}) 84.51 (\\pm{0.95}) & 77 \\\\ [2pt]\n",
      "B-MISC & 0.00 (\\pm{0.00}) & B-MISC & 0.00 (\\pm{0.00}) & B-MISC & 0.00 (\\pm{0.00}) & & 1 \\\\ [2pt]\n",
      "I-MISC & 0.00 (\\pm{0.00}) & I-MISC & 0.00 (\\pm{0.00}) & I-MISC & 0.00 (\\pm{0.00}) & I-MISC & 0.00 (\\pm{0.00}) & I-GPE_LOC & 66.67 (\\pm{0.00}) & 92.00 (\\pm{9.80}) 77.09 (\\pm{3.56}) & 6 \\\\ [2pt]\n",
      "B-LOC & 100.00 (\\pm{0.00}) & 37.33 (\\pm{3.27}) 54.29 (\\pm{3.50}) & 2 \\\\ [2pt]\n",
      "I-ORG & 100.00 (\\pm{0.00}) & 65.17 (\\pm{9.80}) 78.52 (\\pm{6.65}) & 11 \\\\ [2pt]\n",
      "I-EVT & 0.00 (\\pm{0.00}) & I-EVT & 0.00 (\\pm{0.00}) & I-EVT & 0.00 (\\pm{0.00}) & I-EVT & 0.00 (\\pm{0.00}) & "
     ]
    }
   ],
   "source": [
    "lst = ['B-GPE_LOC', 'I-DRV', 'I-LOC', 'B-PER', 'I-PER', 'B-PROD', \n",
    "                'I-GPE_ORG', 'B-GPE_ORG', 'B-EVT', 'B-DRV', 'I-PROD', 'B-ORG', 'B-MISC',\n",
    "                'I-MISC', 'I-GPE_LOC', 'B-LOC', 'I-ORG', 'I-EVT']\n",
    "d = {}\n",
    "for name in lst:\n",
    "    for key, v in files_iob.items():\n",
    "        if key==\"NSPC_SAMPLES_CR_all_labels_nb-bert-base.csv\":\n",
    "            d[name]=extract_rows(v, name, IOB2=True)\n",
    "\n",
    "all_latex = []\n",
    "for k, v in d.items():\n",
    "    latex = get_sd_from_extracted_rows_keys(v, k)\n",
    "    all_latex.append(latex)\n",
    "\n",
    "for latex, name in zip(all_latex, lst):\n",
    "    for i1 in latex:\n",
    "        if i1==latex[0]:\n",
    "            print(f\"{name} & {i1} &\", end=\" \")\n",
    "        elif i1!=latex[-1] and i1!=[0]:\n",
    "            print(f\"{i1}\", end=\" \")\n",
    "        else:\n",
    "            print(f\"& {i1[:-15]} \\\\\\\\ [2pt]\")"
   ]
  },
  {
   "cell_type": "code",
   "execution_count": 41,
   "metadata": {},
   "outputs": [
    {
     "name": "stdout",
     "output_type": "stream",
     "text": [
      "\n",
      "NSPC_SAMPLES_CR_all_labels_norbert\n",
      "precision: Average = 84.17, Standard Deviation = 2.08\n",
      "recall: Average = 79.43, Standard Deviation = 2.15\n",
      "f1: Average = 81.71, Standard Deviation = 1.74\n",
      "support: Average = 216.00, Standard Deviation = 0.00\n",
      "\n",
      "NSPC_SAMPLES_CR_all_labels_nbailab-base-ner-scandi\n",
      "precision: Average = 87.59, Standard Deviation = 0.80\n",
      "recall: Average = 80.18, Standard Deviation = 1.34\n",
      "f1: Average = 83.72, Standard Deviation = 1.00\n",
      "support: Average = 216.00, Standard Deviation = 0.00\n",
      "\n",
      "NSPC_SAMPLES_CR_all_labels_norbert2\n",
      "precision: Average = 82.87, Standard Deviation = 1.78\n",
      "recall: Average = 78.79, Standard Deviation = 0.48\n",
      "f1: Average = 80.77, Standard Deviation = 0.81\n",
      "support: Average = 216.00, Standard Deviation = 0.00\n",
      "\n",
      "NSPC_SAMPLES_CR_all_labels_nb-bert-base\n",
      "precision: Average = 87.96, Standard Deviation = 0.77\n",
      "recall: Average = 81.20, Standard Deviation = 0.60\n",
      "f1: Average = 84.44, Standard Deviation = 0.55\n",
      "support: Average = 216.00, Standard Deviation = 0.00\n",
      "\n",
      "NSPC_SAMPLES_CR_all_labels_mbert\n",
      "precision: Average = 82.41, Standard Deviation = 1.10\n",
      "recall: Average = 81.38, Standard Deviation = 1.26\n",
      "f1: Average = 81.88, Standard Deviation = 0.67\n",
      "support: Average = 216.00, Standard Deviation = 0.00\n"
     ]
    }
   ],
   "source": [
    "for k, v in files_iob.items():\n",
    "    model_name=k.split(\".\")[0]\n",
    "    iob2_data = extract_rows(v, \"micro avg\", IOB2=True)\n",
    "    print()\n",
    "    print(model_name)\n",
    "    for key in iob2_data:\n",
    "        values = [float(x) for x in iob2_data[key]]\n",
    "        avg = np.mean(values)\n",
    "        std = np.std(values)\n",
    "        print(f\"{key}: Average = {avg:.2f}, Standard Deviation = {std:.2f}\")"
   ]
  },
  {
   "cell_type": "code",
   "execution_count": 42,
   "metadata": {},
   "outputs": [
    {
     "data": {
      "text/plain": [
       "11"
      ]
     },
     "execution_count": 42,
     "metadata": {},
     "output_type": "execute_result"
    }
   ],
   "source": [
    "len(\"(\\pm{0.00})\")"
   ]
  },
  {
   "cell_type": "code",
   "execution_count": 43,
   "metadata": {},
   "outputs": [
    {
     "name": "stdout",
     "output_type": "stream",
     "text": [
      "\n",
      "norbert\n",
      "precision: Average = 97.51, Standard Deviation = 0.23\n",
      "precision    97.51 (\\pm{0.23}),\n",
      "recall: Average = 94.96, Standard Deviation = 1.05\n",
      "recall    94.96 (\\pm{1.05}),\n",
      "f1: Average = 96.19, Standard Deviation = 0.49\n",
      "f1    96.19 (\\pm{0.49}),\n",
      "support: Average = nan, Standard Deviation = nan\n",
      "support    nan (\\pm{nan}),\n",
      "\n",
      "nbailab-base-ner-scandi\n",
      "precision: Average = 98.31, Standard Deviation = 0.27\n",
      "precision    98.31 (\\pm{0.27}),\n",
      "recall: Average = 94.40, Standard Deviation = 0.58\n",
      "recall    94.40 (\\pm{0.58}),\n",
      "f1: Average = 96.26, Standard Deviation = 0.37\n",
      "f1    96.26 (\\pm{0.37}),\n",
      "support: Average = nan, Standard Deviation = nan\n",
      "support    nan (\\pm{nan}),\n",
      "\n",
      "norbert2\n",
      "precision: Average = 97.68, Standard Deviation = 0.44\n",
      "precision    97.68 (\\pm{0.44}),\n",
      "recall: Average = 95.44, Standard Deviation = 0.64\n",
      "recall    95.44 (\\pm{0.64}),\n",
      "f1: Average = 96.52, Standard Deviation = 0.19\n",
      "f1    96.52 (\\pm{0.19}),\n",
      "support: Average = nan, Standard Deviation = nan\n",
      "support    nan (\\pm{nan}),\n",
      "\n",
      "nb-bert-base\n",
      "precision: Average = 98.48, Standard Deviation = 0.28\n",
      "precision    98.48 (\\pm{0.28}),\n",
      "recall: Average = 94.91, Standard Deviation = 0.33\n",
      "recall    94.91 (\\pm{0.33}),\n",
      "f1: Average = 96.62, Standard Deviation = 0.22\n",
      "f1    96.62 (\\pm{0.22}),\n",
      "support: Average = nan, Standard Deviation = nan\n",
      "support    nan (\\pm{nan}),\n",
      "\n",
      "mbert\n",
      "precision: Average = 95.44, Standard Deviation = 0.27\n",
      "precision    95.44 (\\pm{0.27}),\n",
      "recall: Average = 94.91, Standard Deviation = 1.00\n",
      "recall    94.91 (\\pm{1.00}),\n",
      "f1: Average = 95.17, Standard Deviation = 0.52\n",
      "f1    95.17 (\\pm{0.52}),\n",
      "support: Average = nan, Standard Deviation = nan\n",
      "support    nan (\\pm{nan}),\n"
     ]
    }
   ],
   "source": [
    "for k, v in files.items():\n",
    "    model_name=k.split(\".\")[0]\n",
    "    data = extract_rows(v, row_type=\"macro avg\", binary=True)\n",
    "    print()\n",
    "    print(model_name)\n",
    "    for key in data:\n",
    "        values = [float(x) for x in data[key]]\n",
    "        avg = np.mean(values)\n",
    "        std = np.std(values)\n",
    "        print(f\"{key}: Average = {avg:.2f}, Standard Deviation = {std:.2f}\")\n",
    "        print(f\"{key}    {avg:.2f} (\\pm{{{std:.2f}}}),\")"
   ]
  },
  {
   "cell_type": "code",
   "execution_count": null,
   "metadata": {},
   "outputs": [],
   "source": []
  }
 ],
 "metadata": {
  "kernelspec": {
   "display_name": "Python 3",
   "language": "python",
   "name": "python3"
  },
  "language_info": {
   "codemirror_mode": {
    "name": "ipython",
    "version": 3
   },
   "file_extension": ".py",
   "mimetype": "text/x-python",
   "name": "python",
   "nbconvert_exporter": "python",
   "pygments_lexer": "ipython3",
   "version": "3.7.0"
  },
  "orig_nbformat": 4,
  "vscode": {
   "interpreter": {
    "hash": "aee8b7b246df8f9039afb4144a1f6fd8d2ca17a180786b69acc140d282b71a49"
   }
  }
 },
 "nbformat": 4,
 "nbformat_minor": 2
}
