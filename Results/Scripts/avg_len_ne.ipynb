{
 "cells": [
  {
   "cell_type": "code",
   "execution_count": 68,
   "metadata": {},
   "outputs": [],
   "source": [
    "import conllu\n",
    "import os\n",
    "import pandas as pd\n"
   ]
  },
  {
   "cell_type": "code",
   "execution_count": 69,
   "metadata": {},
   "outputs": [],
   "source": [
    "## Conllu stuff\n",
    "def filter_tags(x):\n",
    "    return x        \n",
    "\n",
    "def convert_to_list_dict(path, file):\n",
    "    path = path.format(file)\n",
    "    with open(path, encoding=\"UTF-8\") as infile:\n",
    "        lst = []\n",
    "        tokens = list(conllu.parse_incr(infile))\n",
    "        for sent in tokens:\n",
    "                dic = {\n",
    "                \"idx\": sent.metadata[\"sent_id\"],\n",
    "                \"text\": sent.metadata[\"text\"].lower(),\n",
    "                \"tokens\": [token[\"form\"].lower() for token in sent],\n",
    "                \"lemmas\": [token[\"lemma\"] for token in sent],\n",
    "                \"pos_tags\": [token[\"upos\"] for token in sent],\n",
    "                \"ner_tags\": [filter_tags(token[\"misc\"].get(\"name\", \"O\")) for token in sent],\n",
    "            }\n",
    "                lst.append(dic) \n",
    "        print(\"Converting {} to list of dictionaries\\n     {} elements converted..\".format(file, len(lst)))\n",
    "    return lst"
   ]
  },
  {
   "cell_type": "code",
   "execution_count": 70,
   "metadata": {},
   "outputs": [
    {
     "name": "stdout",
     "output_type": "stream",
     "text": [
      "Converting no_bokmaal-ud-dev to list of dictionaries\n",
      "     2410 elements converted..\n",
      "Converting no_bokmaal-ud-test to list of dictionaries\n",
      "     1939 elements converted..\n",
      "Converting no_bokmaal-ud-train to list of dictionaries\n",
      "     15696 elements converted..\n",
      "Converting no_nynorsk-ud-dev to list of dictionaries\n",
      "     1890 elements converted..\n",
      "Converting no_nynorsk-ud-test to list of dictionaries\n",
      "     1511 elements converted..\n",
      "Converting no_nynorsk-ud-train to list of dictionaries\n",
      "     14174 elements converted..\n",
      "Combining train, dev and test sets..\n",
      "Success!\n"
     ]
    }
   ],
   "source": [
    "path = \"/Users/aarnes/Documents/GitHub/MA_Peter-R-ysland-Aarnes/NorBERT2/all_conllu/{0}.conllu\"\n",
    "file_list = [\"no_bokmaal-ud-dev\", \"no_bokmaal-ud-test\", \"no_bokmaal-ud-train\", \"no_nynorsk-ud-dev\", \"no_nynorsk-ud-test\", \"no_nynorsk-ud-train\"]\n",
    "\n",
    "dev_split_no = convert_to_list_dict(path, file_list[0])\n",
    "test_split_no = convert_to_list_dict(path, file_list[1])\n",
    "train_split_no = convert_to_list_dict(path, file_list[2])\n",
    "\n",
    "dev_split_ny = convert_to_list_dict(path, file_list[3])\n",
    "test_split_ny = convert_to_list_dict(path, file_list[4])\n",
    "train_split_ny = convert_to_list_dict(path, file_list[5])\n",
    "\n",
    "print(\"Combining train, dev and test sets..\")\n",
    "dev_split = dev_split_no + dev_split_ny\n",
    "test_split = test_split_no + test_split_ny\n",
    "train_split = train_split_no + train_split_ny\n",
    "print(\"Success!\")"
   ]
  },
  {
   "cell_type": "code",
   "execution_count": 71,
   "metadata": {},
   "outputs": [],
   "source": [
    "datasets = dev_split + test_split + train_split\n"
   ]
  },
  {
   "cell_type": "code",
   "execution_count": 115,
   "metadata": {},
   "outputs": [],
   "source": [
    "\n",
    "\n",
    "def avg_len_sen(dataset):\n",
    "    len_count = []\n",
    "    sent_count = 0\n",
    "    for item in dataset:\n",
    "        for sentence in item[\"ner_tags\"]:\n",
    "            len_count.append(len(sentence))\n",
    "        sent_count += 1\n",
    "\n",
    "    avg = round(sum(len_count)/sent_count, 2)\n",
    "    print(avg)\n"
   ]
  },
  {
   "cell_type": "code",
   "execution_count": 120,
   "metadata": {},
   "outputs": [
    {
     "name": "stdout",
     "output_type": "stream",
     "text": [
      "21.55\n",
      "20.3\n",
      "20.63\n",
      "21.33\n"
     ]
    }
   ],
   "source": [
    "avg_len_sen(train_split)\n",
    "avg_len_sen(dev_split)\n",
    "avg_len_sen(test_split)\n",
    "avg_len_sen(datasets)"
   ]
  },
  {
   "cell_type": "code",
   "execution_count": 112,
   "metadata": {},
   "outputs": [
    {
     "ename": "TypeError",
     "evalue": "list indices must be integers or slices, not str",
     "output_type": "error",
     "traceback": [
      "\u001b[0;31m---------------------------------------------------------------------------\u001b[0m",
      "\u001b[0;31mTypeError\u001b[0m                                 Traceback (most recent call last)",
      "\u001b[0;32m/var/folders/r7/c41ph8f14332vr2zb62pcj140000gn/T/ipykernel_45214/3628735582.py\u001b[0m in \u001b[0;36m<module>\u001b[0;34m\u001b[0m\n\u001b[0;32m----> 1\u001b[0;31m \u001b[0;32mfor\u001b[0m \u001b[0mi\u001b[0m \u001b[0;32min\u001b[0m \u001b[0mdev_split\u001b[0m\u001b[0;34m[\u001b[0m\u001b[0;34m\"ner_tags\"\u001b[0m\u001b[0;34m]\u001b[0m\u001b[0;34m:\u001b[0m\u001b[0;34m\u001b[0m\u001b[0m\n\u001b[0m\u001b[1;32m      2\u001b[0m     \u001b[0mprint\u001b[0m\u001b[0;34m(\u001b[0m\u001b[0mi\u001b[0m\u001b[0;34m)\u001b[0m\u001b[0;34m\u001b[0m\u001b[0m\n",
      "\u001b[0;31mTypeError\u001b[0m: list indices must be integers or slices, not str"
     ]
    }
   ],
   "source": [
    "for i in dev_split[\"ner_tags\"]:\n",
    "    print(i)"
   ]
  },
  {
   "cell_type": "code",
   "execution_count": 72,
   "metadata": {},
   "outputs": [],
   "source": [
    "ner_tags = []\n",
    "for item in datasets:\n",
    "    ner_tags.append(item[\"ner_tags\"])"
   ]
  },
  {
   "cell_type": "code",
   "execution_count": 73,
   "metadata": {},
   "outputs": [],
   "source": [
    "tag_dit = {\"PER\":[],\n",
    "            \"ORG\":[],\n",
    "            \"GPE_LOC\":[],\n",
    "            \"GPE_ORG\":[],\n",
    "            \"PROD\":[],\n",
    "            \"LOC\":[],\n",
    "            \"DRV\":[],\n",
    "            \"EVT\":[],\n",
    "            \"MISC\":[]}"
   ]
  },
  {
   "cell_type": "code",
   "execution_count": 74,
   "metadata": {},
   "outputs": [],
   "source": [
    "for sentence in ner_tags:\n",
    "    tag_len = 0\n",
    "    for tag in sentence:\n",
    "        tag_name = tag[2:]\n",
    "        if tag[0] == \"B\":\n",
    "            if tag_len != 0:\n",
    "                tag_dit[tag_name].append(tag_len)\n",
    "            tag_len=1     \n",
    "        elif tag[0] == \"I\":\n",
    "            tag_len += 1\n",
    "        "
   ]
  },
  {
   "cell_type": "code",
   "execution_count": 75,
   "metadata": {},
   "outputs": [
    {
     "data": {
      "text/plain": [
       "3281"
      ]
     },
     "execution_count": 75,
     "metadata": {},
     "output_type": "execute_result"
    }
   ],
   "source": [
    "len(tag_dit[\"PER\"])"
   ]
  },
  {
   "cell_type": "code",
   "execution_count": 76,
   "metadata": {},
   "outputs": [],
   "source": [
    "tag_dict = {\"PER\":[], \"ORG\":[], \"GPE_LOC\":[], \"GPE_ORG\":[], \"PROD\":[], \"LOC\":[], \"DRV\":[], \"EVT\":[], \"MISC\":[]}\n",
    "\n",
    "def update_tag_dict(tag_dict, ner_tags):\n",
    "    for tag_list in ner_tags:\n",
    "        for i, tag in enumerate(tag_list):\n",
    "            if tag.startswith(\"B-\"):\n",
    "                # Start of a new span\n",
    "                entity_type = tag[2:]\n",
    "                span_length = 1\n",
    "                \n",
    "                # Keep iterating until we reach the end of the span or the end of the sentence\n",
    "                j = i + 1\n",
    "                while j < len(tag_list) and tag_list[j] == \"I-\" + entity_type:\n",
    "                    span_length += 1\n",
    "                    j += 1\n",
    "                \n",
    "                # Add the span length to the appropriate list in the dictionary\n",
    "                tag_dict[entity_type].append(span_length)\n",
    "                \n",
    "    return tag_dict\n"
   ]
  },
  {
   "cell_type": "code",
   "execution_count": 77,
   "metadata": {},
   "outputs": [],
   "source": [
    "tag_dict = update_tag_dict(tag_dict, ner_tags)"
   ]
  },
  {
   "cell_type": "code",
   "execution_count": 78,
   "metadata": {},
   "outputs": [
    {
     "name": "stdout",
     "output_type": "stream",
     "text": [
      "PER   1.58\n",
      "ORG   1.38\n",
      "GPE_LOC   1.08\n",
      "GPE_ORG   1.09\n",
      "PROD   2.01\n",
      "LOC   1.3\n",
      "DRV   1.19\n",
      "EVT   1.55\n",
      "MISC   1.25\n"
     ]
    }
   ],
   "source": [
    "for type, values in tag_dict.items():\n",
    "    print(f\"{type}   {round(sum(values)/len(values), 2)}\")"
   ]
  },
  {
   "cell_type": "code",
   "execution_count": null,
   "metadata": {},
   "outputs": [],
   "source": []
  },
  {
   "cell_type": "code",
   "execution_count": null,
   "metadata": {},
   "outputs": [],
   "source": []
  },
  {
   "cell_type": "code",
   "execution_count": 82,
   "metadata": {},
   "outputs": [],
   "source": [
    "\"\"\"LOADING NPSC SAMPLES \"\"\"\n",
    "\n",
    "\n",
    "import csv\n",
    "\n",
    "with open('/Users/aarnes/Documents/GitHub/MA_Peter-R-ysland-Aarnes/IOB NPSC sample/200_annoterte_setninger.csv', newline='', encoding=\"UTF-8\") as csvfile:\n",
    "    csvreader = csv.reader(csvfile, delimiter=',')\n",
    "    left_col = []\n",
    "    right_col = []\n",
    "    for row in csvreader:\n",
    "        left_col.append(row[0])\n",
    "        right_col.append(row[1])\n",
    "\n",
    "x, y = [], []\n",
    "\n",
    "with open(\"/Users/aarnes/Documents/GitHub/MA_Peter-R-ysland-Aarnes/IOB NPSC sample/parl_annotation_comma_fixed 100 sents.csv\", \"r\", encoding=\"UTF-8\") as f_input:\n",
    "    reader = csv.reader(f_input, delimiter=\",\")\n",
    "    for i, row in enumerate(reader):\n",
    "        if i%2:\n",
    "            y.append(row)\n",
    "        else:\n",
    "            x.append(row)\n",
    "\n",
    "\n",
    "def create_sublists(lst):\n",
    "    sublists = []\n",
    "    sublist = []\n",
    "    for element in lst:\n",
    "        if element == '':\n",
    "            if sublist:\n",
    "                sublists.append(sublist)\n",
    "                sublist = []\n",
    "        else:\n",
    "            sublist.append(element)\n",
    "\n",
    "    if sublist:\n",
    "        sublists.append(sublist)\n",
    "\n",
    "    return sublists\n",
    "\n",
    "y200 = create_sublists(right_col)\n",
    "x200 = create_sublists(left_col)\n",
    "\n",
    "\n",
    "def lower_list_of_lists(lists):\n",
    "    return [[word.lower() for word in sublist] for sublist in lists]\n"
   ]
  },
  {
   "cell_type": "code",
   "execution_count": 83,
   "metadata": {},
   "outputs": [],
   "source": [
    "y = y + y200"
   ]
  },
  {
   "cell_type": "code",
   "execution_count": 85,
   "metadata": {},
   "outputs": [
    {
     "data": {
      "text/plain": [
       "300"
      ]
     },
     "execution_count": 85,
     "metadata": {},
     "output_type": "execute_result"
    }
   ],
   "source": [
    "len(y)"
   ]
  },
  {
   "cell_type": "code",
   "execution_count": 86,
   "metadata": {},
   "outputs": [],
   "source": [
    "tag_dict = {\"PER\":[], \"ORG\":[], \"GPE_LOC\":[], \"GPE_ORG\":[], \"PROD\":[], \"LOC\":[], \"DRV\":[], \"EVT\":[], \"MISC\":[]}\n"
   ]
  },
  {
   "cell_type": "code",
   "execution_count": 95,
   "metadata": {},
   "outputs": [],
   "source": [
    "tag_dict = update_tag_dict(tag_dict, y)\n",
    "\n",
    "total_NE = 0\n",
    "for values in tag_dict.values():\n",
    "    total_NE += sum(values)"
   ]
  },
  {
   "cell_type": "code",
   "execution_count": 96,
   "metadata": {},
   "outputs": [
    {
     "data": {
      "text/plain": [
       "432"
      ]
     },
     "execution_count": 96,
     "metadata": {},
     "output_type": "execute_result"
    }
   ],
   "source": [
    "total_NE"
   ]
  },
  {
   "cell_type": "code",
   "execution_count": 104,
   "metadata": {},
   "outputs": [
    {
     "name": "stdout",
     "output_type": "stream",
     "text": [
      "PER   0.2917\n",
      "ORG   0.4074\n",
      "GPE_LOC   0.1574\n",
      "GPE_ORG   0.0926\n",
      "PROD   0.0231\n",
      "LOC   0.0093\n",
      "DRV   0.0139\n",
      "EVT   0.0\n",
      "MISC   0.0046\n"
     ]
    }
   ],
   "source": [
    "for type, values in tag_dict.items():\n",
    "    print(f\"{type}   {round(sum(values)/432, 4)}\")"
   ]
  },
  {
   "cell_type": "code",
   "execution_count": 90,
   "metadata": {},
   "outputs": [
    {
     "data": {
      "text/plain": [
       "{'PER': [2,\n",
       "  1,\n",
       "  1,\n",
       "  1,\n",
       "  1,\n",
       "  1,\n",
       "  2,\n",
       "  2,\n",
       "  2,\n",
       "  1,\n",
       "  2,\n",
       "  2,\n",
       "  1,\n",
       "  2,\n",
       "  1,\n",
       "  2,\n",
       "  1,\n",
       "  1,\n",
       "  1,\n",
       "  1,\n",
       "  1,\n",
       "  1,\n",
       "  1,\n",
       "  3,\n",
       "  3,\n",
       "  1,\n",
       "  1,\n",
       "  1,\n",
       "  1,\n",
       "  1,\n",
       "  2,\n",
       "  1,\n",
       "  2,\n",
       "  3,\n",
       "  1,\n",
       "  1,\n",
       "  1,\n",
       "  1,\n",
       "  2,\n",
       "  3,\n",
       "  1,\n",
       "  2,\n",
       "  1],\n",
       " 'ORG': [1,\n",
       "  1,\n",
       "  1,\n",
       "  2,\n",
       "  3,\n",
       "  1,\n",
       "  1,\n",
       "  1,\n",
       "  1,\n",
       "  1,\n",
       "  1,\n",
       "  1,\n",
       "  1,\n",
       "  1,\n",
       "  1,\n",
       "  1,\n",
       "  1,\n",
       "  1,\n",
       "  1,\n",
       "  1,\n",
       "  1,\n",
       "  1,\n",
       "  1,\n",
       "  1,\n",
       "  1,\n",
       "  1,\n",
       "  1,\n",
       "  1,\n",
       "  1,\n",
       "  1,\n",
       "  1,\n",
       "  1,\n",
       "  1,\n",
       "  1,\n",
       "  1,\n",
       "  1,\n",
       "  2,\n",
       "  2,\n",
       "  1,\n",
       "  1,\n",
       "  1,\n",
       "  1,\n",
       "  1,\n",
       "  1,\n",
       "  1,\n",
       "  1,\n",
       "  1,\n",
       "  1,\n",
       "  1,\n",
       "  1,\n",
       "  1,\n",
       "  1,\n",
       "  1,\n",
       "  1,\n",
       "  1,\n",
       "  3,\n",
       "  1,\n",
       "  1,\n",
       "  1,\n",
       "  1,\n",
       "  2,\n",
       "  1,\n",
       "  1,\n",
       "  1,\n",
       "  1,\n",
       "  1,\n",
       "  1,\n",
       "  1,\n",
       "  1,\n",
       "  1,\n",
       "  1,\n",
       "  1,\n",
       "  1,\n",
       "  1,\n",
       "  1,\n",
       "  3,\n",
       "  2],\n",
       " 'GPE_LOC': [1,\n",
       "  1,\n",
       "  1,\n",
       "  1,\n",
       "  1,\n",
       "  1,\n",
       "  1,\n",
       "  1,\n",
       "  1,\n",
       "  3,\n",
       "  3,\n",
       "  1,\n",
       "  1,\n",
       "  1,\n",
       "  1,\n",
       "  1,\n",
       "  1,\n",
       "  3,\n",
       "  1,\n",
       "  1,\n",
       "  1,\n",
       "  1,\n",
       "  1,\n",
       "  1,\n",
       "  1,\n",
       "  1,\n",
       "  1,\n",
       "  1],\n",
       " 'GPE_ORG': [1, 1, 1, 1, 1, 1, 1, 1, 1, 1, 1, 1, 1, 1, 1, 1, 1, 1, 1, 1],\n",
       " 'PROD': [1, 1, 1, 1, 1],\n",
       " 'LOC': [1, 1],\n",
       " 'DRV': [1, 1, 1],\n",
       " 'EVT': [],\n",
       " 'MISC': [1]}"
      ]
     },
     "execution_count": 90,
     "metadata": {},
     "output_type": "execute_result"
    }
   ],
   "source": [
    "tag_dict"
   ]
  },
  {
   "cell_type": "code",
   "execution_count": 105,
   "metadata": {},
   "outputs": [],
   "source": [
    "flat_list = [item for sublist in y for item in sublist]\n"
   ]
  },
  {
   "cell_type": "code",
   "execution_count": 108,
   "metadata": {},
   "outputs": [
    {
     "data": {
      "text/plain": [
       "5006"
      ]
     },
     "execution_count": 108,
     "metadata": {},
     "output_type": "execute_result"
    }
   ],
   "source": [
    "len(flat_list) - total_NE"
   ]
  },
  {
   "cell_type": "code",
   "execution_count": 121,
   "metadata": {},
   "outputs": [
    {
     "name": "stdout",
     "output_type": "stream",
     "text": [
      "18.13\n"
     ]
    }
   ],
   "source": [
    "len_count = []\n",
    "sent_count = 0\n",
    "for item in y:\n",
    "    len_count.append(len(item))\n",
    "    sent_count += 1\n",
    "\n",
    "avg = round(sum(len_count)/sent_count, 2)\n",
    "print(avg)"
   ]
  },
  {
   "cell_type": "code",
   "execution_count": null,
   "metadata": {},
   "outputs": [],
   "source": []
  }
 ],
 "metadata": {
  "kernelspec": {
   "display_name": "Python 3",
   "language": "python",
   "name": "python3"
  },
  "language_info": {
   "codemirror_mode": {
    "name": "ipython",
    "version": 3
   },
   "file_extension": ".py",
   "mimetype": "text/x-python",
   "name": "python",
   "nbconvert_exporter": "python",
   "pygments_lexer": "ipython3",
   "version": "3.7.0"
  },
  "orig_nbformat": 4
 },
 "nbformat": 4,
 "nbformat_minor": 2
}
