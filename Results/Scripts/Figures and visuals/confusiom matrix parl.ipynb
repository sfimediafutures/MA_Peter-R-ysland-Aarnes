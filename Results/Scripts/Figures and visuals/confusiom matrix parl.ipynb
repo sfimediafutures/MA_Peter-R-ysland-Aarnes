{
 "cells": [
  {
   "cell_type": "code",
   "execution_count": 5,
   "metadata": {},
   "outputs": [],
   "source": [
    "import seaborn as sns\n",
    "import pandas as pd\n",
    "import numpy as np\n",
    "import matplotlib.pyplot as plt"
   ]
  },
  {
   "cell_type": "code",
   "execution_count": null,
   "metadata": {},
   "outputs": [],
   "source": []
  },
  {
   "cell_type": "code",
   "execution_count": 1,
   "metadata": {},
   "outputs": [],
   "source": [
    "file = \"/Users/aarnes/Documents/GitHub/MA_Peter-R-ysland-Aarnes/Results/nbailab-base-ner-scandi/matrix parl avg binary.csv\"\n",
    "file2 = \"/Users/aarnes/Desktop/test matrix data.csv\""
   ]
  },
  {
   "cell_type": "code",
   "execution_count": 2,
   "metadata": {},
   "outputs": [
    {
     "ename": "NameError",
     "evalue": "name 'pd' is not defined",
     "output_type": "error",
     "traceback": [
      "\u001b[0;31m---------------------------------------------------------------------------\u001b[0m",
      "\u001b[0;31mNameError\u001b[0m                                 Traceback (most recent call last)",
      "\u001b[0;32m/var/folders/r7/c41ph8f14332vr2zb62pcj140000gn/T/ipykernel_8668/2082172251.py\u001b[0m in \u001b[0;36m<module>\u001b[0;34m\u001b[0m\n\u001b[0;32m----> 1\u001b[0;31m \u001b[0mdf\u001b[0m\u001b[0;34m=\u001b[0m\u001b[0mpd\u001b[0m\u001b[0;34m.\u001b[0m\u001b[0mread_csv\u001b[0m\u001b[0;34m(\u001b[0m\u001b[0mfile\u001b[0m\u001b[0;34m)\u001b[0m\u001b[0;34m\u001b[0m\u001b[0m\n\u001b[0m\u001b[1;32m      2\u001b[0m \u001b[0;34m\u001b[0m\u001b[0m\n",
      "\u001b[0;31mNameError\u001b[0m: name 'pd' is not defined"
     ]
    }
   ],
   "source": [
    "df=pd.read_csv(file)\n",
    "\n"
   ]
  },
  {
   "cell_type": "code",
   "execution_count": null,
   "metadata": {},
   "outputs": [
    {
     "data": {
      "text/html": [
       "<div>\n",
       "<style scoped>\n",
       "    .dataframe tbody tr th:only-of-type {\n",
       "        vertical-align: middle;\n",
       "    }\n",
       "\n",
       "    .dataframe tbody tr th {\n",
       "        vertical-align: top;\n",
       "    }\n",
       "\n",
       "    .dataframe thead th {\n",
       "        text-align: right;\n",
       "    }\n",
       "</style>\n",
       "<table border=\"1\" class=\"dataframe\">\n",
       "  <thead>\n",
       "    <tr style=\"text-align: right;\">\n",
       "      <th></th>\n",
       "      <th>Unnamed: 0</th>\n",
       "      <th>B-DRV</th>\n",
       "      <th>I-DRV</th>\n",
       "      <th>B-EVT</th>\n",
       "      <th>I-EVT</th>\n",
       "      <th>B-GPE_LOC</th>\n",
       "      <th>I-GPE_LOC</th>\n",
       "      <th>B-GPE_ORG</th>\n",
       "      <th>I-GPE_ORG</th>\n",
       "      <th>B-LOC</th>\n",
       "      <th>I-LOC</th>\n",
       "      <th>B-MISC</th>\n",
       "      <th>I-MISC</th>\n",
       "      <th>B-ORG</th>\n",
       "      <th>I-ORG</th>\n",
       "      <th>B-PER</th>\n",
       "      <th>I-PER</th>\n",
       "      <th>B-PROD</th>\n",
       "      <th>I-PROD</th>\n",
       "    </tr>\n",
       "  </thead>\n",
       "  <tbody>\n",
       "    <tr>\n",
       "      <th>0</th>\n",
       "      <td>B-DRV</td>\n",
       "      <td>62.0</td>\n",
       "      <td>1.0</td>\n",
       "      <td>1.0</td>\n",
       "      <td>0.0</td>\n",
       "      <td>0.0</td>\n",
       "      <td>0.0</td>\n",
       "      <td>0.0</td>\n",
       "      <td>0.0</td>\n",
       "      <td>3.0</td>\n",
       "      <td>0.0</td>\n",
       "      <td>0.0</td>\n",
       "      <td>0.0</td>\n",
       "      <td>0.0</td>\n",
       "      <td>0.0</td>\n",
       "      <td>0.8</td>\n",
       "      <td>0.0</td>\n",
       "      <td>0.2</td>\n",
       "      <td>0.0</td>\n",
       "    </tr>\n",
       "    <tr>\n",
       "      <th>1</th>\n",
       "      <td>I-DRV</td>\n",
       "      <td>0.6</td>\n",
       "      <td>5.4</td>\n",
       "      <td>0.0</td>\n",
       "      <td>0.0</td>\n",
       "      <td>0.0</td>\n",
       "      <td>0.0</td>\n",
       "      <td>0.0</td>\n",
       "      <td>0.0</td>\n",
       "      <td>0.0</td>\n",
       "      <td>0.0</td>\n",
       "      <td>0.0</td>\n",
       "      <td>0.0</td>\n",
       "      <td>0.0</td>\n",
       "      <td>0.0</td>\n",
       "      <td>0.0</td>\n",
       "      <td>0.0</td>\n",
       "      <td>0.0</td>\n",
       "      <td>0.0</td>\n",
       "    </tr>\n",
       "    <tr>\n",
       "      <th>2</th>\n",
       "      <td>B-EVT</td>\n",
       "      <td>0.6</td>\n",
       "      <td>0.0</td>\n",
       "      <td>9.6</td>\n",
       "      <td>0.0</td>\n",
       "      <td>0.8</td>\n",
       "      <td>0.0</td>\n",
       "      <td>0.0</td>\n",
       "      <td>0.0</td>\n",
       "      <td>0.4</td>\n",
       "      <td>0.0</td>\n",
       "      <td>0.0</td>\n",
       "      <td>0.0</td>\n",
       "      <td>0.6</td>\n",
       "      <td>0.0</td>\n",
       "      <td>0.0</td>\n",
       "      <td>0.0</td>\n",
       "      <td>0.6</td>\n",
       "      <td>0.0</td>\n",
       "    </tr>\n",
       "    <tr>\n",
       "      <th>3</th>\n",
       "      <td>I-EVT</td>\n",
       "      <td>0.0</td>\n",
       "      <td>0.0</td>\n",
       "      <td>0.0</td>\n",
       "      <td>1.6</td>\n",
       "      <td>0.8</td>\n",
       "      <td>0.0</td>\n",
       "      <td>0.0</td>\n",
       "      <td>0.0</td>\n",
       "      <td>0.0</td>\n",
       "      <td>0.2</td>\n",
       "      <td>0.0</td>\n",
       "      <td>0.0</td>\n",
       "      <td>0.0</td>\n",
       "      <td>0.0</td>\n",
       "      <td>0.0</td>\n",
       "      <td>0.0</td>\n",
       "      <td>0.0</td>\n",
       "      <td>0.4</td>\n",
       "    </tr>\n",
       "    <tr>\n",
       "      <th>4</th>\n",
       "      <td>B-GPE_LOC</td>\n",
       "      <td>0.0</td>\n",
       "      <td>0.4</td>\n",
       "      <td>0.0</td>\n",
       "      <td>0.0</td>\n",
       "      <td>400.0</td>\n",
       "      <td>0.8</td>\n",
       "      <td>8.0</td>\n",
       "      <td>0.0</td>\n",
       "      <td>11.8</td>\n",
       "      <td>0.0</td>\n",
       "      <td>0.0</td>\n",
       "      <td>0.0</td>\n",
       "      <td>2.0</td>\n",
       "      <td>0.4</td>\n",
       "      <td>0.0</td>\n",
       "      <td>0.0</td>\n",
       "      <td>1.4</td>\n",
       "      <td>1.4</td>\n",
       "    </tr>\n",
       "  </tbody>\n",
       "</table>\n",
       "</div>"
      ],
      "text/plain": [
       "  Unnamed: 0  B-DRV  I-DRV  B-EVT  I-EVT  B-GPE_LOC  I-GPE_LOC  B-GPE_ORG  \\\n",
       "0      B-DRV   62.0    1.0    1.0    0.0        0.0        0.0        0.0   \n",
       "1      I-DRV    0.6    5.4    0.0    0.0        0.0        0.0        0.0   \n",
       "2      B-EVT    0.6    0.0    9.6    0.0        0.8        0.0        0.0   \n",
       "3      I-EVT    0.0    0.0    0.0    1.6        0.8        0.0        0.0   \n",
       "4  B-GPE_LOC    0.0    0.4    0.0    0.0      400.0        0.8        8.0   \n",
       "\n",
       "   I-GPE_ORG  B-LOC  I-LOC  B-MISC  I-MISC  B-ORG  I-ORG  B-PER  I-PER  \\\n",
       "0        0.0    3.0    0.0     0.0     0.0    0.0    0.0    0.8    0.0   \n",
       "1        0.0    0.0    0.0     0.0     0.0    0.0    0.0    0.0    0.0   \n",
       "2        0.0    0.4    0.0     0.0     0.0    0.6    0.0    0.0    0.0   \n",
       "3        0.0    0.0    0.2     0.0     0.0    0.0    0.0    0.0    0.0   \n",
       "4        0.0   11.8    0.0     0.0     0.0    2.0    0.4    0.0    0.0   \n",
       "\n",
       "   B-PROD  I-PROD  \n",
       "0     0.2     0.0  \n",
       "1     0.0     0.0  \n",
       "2     0.6     0.0  \n",
       "3     0.0     0.4  \n",
       "4     1.4     1.4  "
      ]
     },
     "execution_count": 60,
     "metadata": {},
     "output_type": "execute_result"
    }
   ],
   "source": [
    "df.head()"
   ]
  },
  {
   "cell_type": "code",
   "execution_count": null,
   "metadata": {},
   "outputs": [],
   "source": [
    "labels = [\"I-GPE_LOC\",\t\"B-GPE_ORG\",\t\"I-GPE_ORG\",\t\"B-LOC\",\t\"I-LOC\",\t\"B-MISC\", \"I-MISC\", \"B-ORG\", \"I-ORG\",\t\"B-PER\",\t\"I-PER\",\t\"B-PROD\" ,\"I-PROD\"]"
   ]
  },
  {
   "cell_type": "code",
   "execution_count": null,
   "metadata": {},
   "outputs": [],
   "source": [
    "latex = df.to_latex(index=False)\n"
   ]
  },
  {
   "cell_type": "code",
   "execution_count": null,
   "metadata": {},
   "outputs": [
    {
     "name": "stdout",
     "output_type": "stream",
     "text": [
      "\\begin{tabular}{lrrrrrrrrrrrrrrrrrr}\n",
      "\\toprule\n",
      "Unnamed: 0 &  B-DRV &  I-DRV &  B-EVT &  I-EVT &  B-GPE\\_LOC &  I-GPE\\_LOC &  B-GPE\\_ORG &  I-GPE\\_ORG &  B-LOC &  I-LOC &  B-MISC &  I-MISC &  B-ORG &  I-ORG &  B-PER &  I-PER &  B-PROD &  I-PROD \\\\\n",
      "\\midrule\n",
      "     B-DRV &   62.0 &    1.0 &    1.0 &    0.0 &        0.0 &        0.0 &        0.0 &        0.0 &    3.0 &    0.0 &     0.0 &     0.0 &    0.0 &    0.0 &    0.8 &    0.0 &     0.2 &     0.0 \\\\\n",
      "     I-DRV &    0.6 &    5.4 &    0.0 &    0.0 &        0.0 &        0.0 &        0.0 &        0.0 &    0.0 &    0.0 &     0.0 &     0.0 &    0.0 &    0.0 &    0.0 &    0.0 &     0.0 &     0.0 \\\\\n",
      "     B-EVT &    0.6 &    0.0 &    9.6 &    0.0 &        0.8 &        0.0 &        0.0 &        0.0 &    0.4 &    0.0 &     0.0 &     0.0 &    0.6 &    0.0 &    0.0 &    0.0 &     0.6 &     0.0 \\\\\n",
      "     I-EVT &    0.0 &    0.0 &    0.0 &    1.6 &        0.8 &        0.0 &        0.0 &        0.0 &    0.0 &    0.2 &     0.0 &     0.0 &    0.0 &    0.0 &    0.0 &    0.0 &     0.0 &     0.4 \\\\\n",
      " B-GPE\\_LOC &    0.0 &    0.4 &    0.0 &    0.0 &      400.0 &        0.8 &        8.0 &        0.0 &   11.8 &    0.0 &     0.0 &     0.0 &    2.0 &    0.4 &    0.0 &    0.0 &     1.4 &     1.4 \\\\\n",
      " I-GPE\\_LOC &    0.0 &    0.0 &    0.0 &    0.0 &        0.0 &       73.8 &        0.0 &        1.6 &    0.0 &    1.6 &     0.0 &     0.0 &    0.0 &    0.0 &    0.0 &    0.0 &     0.0 &     0.0 \\\\\n",
      " B-GPE\\_ORG &    0.8 &    0.0 &    0.0 &    0.0 &       20.6 &        0.0 &       39.2 &        0.0 &    0.0 &    0.0 &     0.0 &     0.0 &    0.4 &    0.0 &    0.0 &    0.0 &     0.0 &     0.0 \\\\\n",
      " I-GPE\\_ORG &    0.0 &    0.0 &    0.0 &    0.0 &        0.0 &        0.0 &        0.0 &        7.0 &    0.0 &    0.0 &     0.0 &     0.0 &    0.0 &    0.0 &    0.0 &    0.0 &     0.0 &     0.0 \\\\\n",
      "     B-LOC &    0.2 &    0.0 &    0.0 &    0.0 &       11.8 &        0.0 &        0.0 &        0.0 &  146.0 &    0.0 &     0.0 &     0.0 &    4.8 &    0.2 &    7.4 &    0.0 &     0.0 &     0.0 \\\\\n",
      "     I-LOC &    0.0 &    0.0 &    0.0 &    0.0 &        0.0 &        0.4 &        0.0 &        0.0 &    2.0 &   63.2 &     0.0 &     0.0 &    0.0 &    2.8 &    1.0 &   11.8 &     0.0 &     0.0 \\\\\n",
      "    B-MISC &    0.0 &    0.0 &    0.0 &    0.0 &        0.0 &        0.0 &        0.0 &        0.0 &    0.0 &    0.0 &     5.6 &     0.0 &    0.0 &    0.0 &    1.8 &    0.0 &     1.4 &     0.0 \\\\\n",
      "    I-MISC &    0.0 &    0.0 &    0.0 &    0.0 &        0.0 &        0.0 &        0.0 &        0.0 &    0.0 &    0.0 &     0.0 &     0.6 &    0.0 &    0.0 &    0.0 &    0.0 &     0.0 &     0.0 \\\\\n",
      "     B-ORG &    1.6 &    0.0 &    1.0 &    0.0 &        1.0 &        0.0 &        1.6 &        0.0 &   12.6 &    0.0 &     0.0 &     0.0 &  428.6 &    1.4 &   15.6 &    0.0 &    14.8 &     0.0 \\\\\n",
      "     I-ORG &    0.0 &    0.0 &    0.0 &    0.8 &        5.6 &        0.0 &        0.0 &        0.0 &    0.2 &    6.2 &     0.0 &     0.0 &    6.0 &  179.2 &    0.8 &    5.4 &     0.0 &     7.2 \\\\\n",
      "     B-PER &    0.4 &    0.0 &    0.0 &    0.0 &        1.0 &        0.0 &        1.0 &        0.0 &    2.4 &    0.0 &     0.0 &     0.0 &    8.8 &    0.0 &  931.2 &    1.2 &     2.8 &     0.0 \\\\\n",
      "     I-PER &    0.0 &    0.0 &    0.0 &    0.0 &        0.0 &        0.0 &        0.0 &        0.0 &    0.0 &    0.4 &     0.0 &     0.0 &    0.0 &    0.2 &    6.0 &  501.4 &     0.0 &     0.2 \\\\\n",
      "    B-PROD &    0.8 &    0.0 &    0.0 &    0.0 &        0.2 &        0.0 &        0.8 &        0.0 &    2.8 &    0.0 &     0.0 &     0.0 &   10.8 &    0.0 &    8.2 &    0.0 &    79.4 &     0.2 \\\\\n",
      "    I-PROD &    0.0 &    0.0 &    0.0 &    0.0 &        2.0 &        0.0 &        0.0 &        0.0 &    5.0 &    0.0 &     0.0 &     0.0 &    0.0 &    4.0 &    1.0 &    3.6 &     2.6 &    60.8 \\\\\n",
      "\\bottomrule\n",
      "\\end{tabular}\n",
      "\n"
     ]
    }
   ],
   "source": [
    "print(latex)"
   ]
  },
  {
   "cell_type": "code",
   "execution_count": null,
   "metadata": {},
   "outputs": [],
   "source": [
    "df=pd.read_csv(file2)\n",
    "\n"
   ]
  },
  {
   "cell_type": "code",
   "execution_count": null,
   "metadata": {},
   "outputs": [
    {
     "name": "stdout",
     "output_type": "stream",
     "text": [
      "    B-DRV  I-DRV  B-EVT  I-EVT  B-GPE_LOC  I-GPE_LOC  B-GPE_ORG  I-GPE_ORG  \\\n",
      "0    62.0    1.0    1.0    0.0        0.0        0.0        0.0        0.0   \n",
      "1     0.6    5.4    0.0    0.0        0.0        0.0        0.0        0.0   \n",
      "2     0.6    0.0    9.6    0.0        0.8        0.0        0.0        0.0   \n",
      "3     0.0    0.0    0.0    1.6        0.8        0.0        0.0        0.0   \n",
      "4     0.0    0.4    0.0    0.0      400.0        0.8        8.0        0.0   \n",
      "5     0.0    0.0    0.0    0.0        0.0       73.8        0.0        1.6   \n",
      "6     0.8    0.0    0.0    0.0       20.6        0.0       39.2        0.0   \n",
      "7     0.0    0.0    0.0    0.0        0.0        0.0        0.0        7.0   \n",
      "8     0.2    0.0    0.0    0.0       11.8        0.0        0.0        0.0   \n",
      "9     0.0    0.0    0.0    0.0        0.0        0.4        0.0        0.0   \n",
      "10    0.0    0.0    0.0    0.0        0.0        0.0        0.0        0.0   \n",
      "11    0.0    0.0    0.0    0.0        0.0        0.0        0.0        0.0   \n",
      "12    1.6    0.0    1.0    0.0        1.0        0.0        1.6        0.0   \n",
      "13    0.0    0.0    0.0    0.8        5.6        0.0        0.0        0.0   \n",
      "14    0.4    0.0    0.0    0.0        1.0        0.0        1.0        0.0   \n",
      "15    0.0    0.0    0.0    0.0        0.0        0.0        0.0        0.0   \n",
      "16    0.8    0.0    0.0    0.0        0.2        0.0        0.8        0.0   \n",
      "17    0.0    0.0    0.0    0.0        2.0        0.0        0.0        0.0   \n",
      "\n",
      "    B-LOC  I-LOC  B-MISC  I-MISC  B-ORG  I-ORG  B-PER  I-PER  B-PROD  I-PROD  \n",
      "0     3.0    0.0     0.0     0.0    0.0    0.0    0.8    0.0     0.2     0.0  \n",
      "1     0.0    0.0     0.0     0.0    0.0    0.0    0.0    0.0     0.0     0.0  \n",
      "2     0.4    0.0     0.0     0.0    0.6    0.0    0.0    0.0     0.6     0.0  \n",
      "3     0.0    0.2     0.0     0.0    0.0    0.0    0.0    0.0     0.0     0.4  \n",
      "4    11.8    0.0     0.0     0.0    2.0    0.4    0.0    0.0     1.4     1.4  \n",
      "5     0.0    1.6     0.0     0.0    0.0    0.0    0.0    0.0     0.0     0.0  \n",
      "6     0.0    0.0     0.0     0.0    0.4    0.0    0.0    0.0     0.0     0.0  \n",
      "7     0.0    0.0     0.0     0.0    0.0    0.0    0.0    0.0     0.0     0.0  \n",
      "8   146.0    0.0     0.0     0.0    4.8    0.2    7.4    0.0     0.0     0.0  \n",
      "9     2.0   63.2     0.0     0.0    0.0    2.8    1.0   11.8     0.0     0.0  \n",
      "10    0.0    0.0     5.6     0.0    0.0    0.0    1.8    0.0     1.4     0.0  \n",
      "11    0.0    0.0     0.0     0.6    0.0    0.0    0.0    0.0     0.0     0.0  \n",
      "12   12.6    0.0     0.0     0.0  428.6    1.4   15.6    0.0    14.8     0.0  \n",
      "13    0.2    6.2     0.0     0.0    6.0  179.2    0.8    5.4     0.0     7.2  \n",
      "14    2.4    0.0     0.0     0.0    8.8    0.0  931.2    1.2     2.8     0.0  \n",
      "15    0.0    0.4     0.0     0.0    0.0    0.2    6.0  501.4     0.0     0.2  \n",
      "16    2.8    0.0     0.0     0.0   10.8    0.0    8.2    0.0    79.4     0.2  \n",
      "17    5.0    0.0     0.0     0.0    0.0    4.0    1.0    3.6     2.6    60.8  \n"
     ]
    }
   ],
   "source": [
    "print(df)"
   ]
  },
  {
   "cell_type": "code",
   "execution_count": 3,
   "metadata": {},
   "outputs": [
    {
     "ename": "NameError",
     "evalue": "name 'pd' is not defined",
     "output_type": "error",
     "traceback": [
      "\u001b[0;31m---------------------------------------------------------------------------\u001b[0m",
      "\u001b[0;31mNameError\u001b[0m                                 Traceback (most recent call last)",
      "\u001b[0;32m/var/folders/r7/c41ph8f14332vr2zb62pcj140000gn/T/ipykernel_8668/4005589945.py\u001b[0m in \u001b[0;36m<module>\u001b[0;34m\u001b[0m\n\u001b[1;32m      1\u001b[0m \u001b[0;31m# create a heatmap of the DataFrame\u001b[0m\u001b[0;34m\u001b[0m\u001b[0;34m\u001b[0m\u001b[0m\n\u001b[0;32m----> 2\u001b[0;31m \u001b[0mdf\u001b[0m \u001b[0;34m=\u001b[0m \u001b[0mpd\u001b[0m\u001b[0;34m.\u001b[0m\u001b[0mread_csv\u001b[0m\u001b[0;34m(\u001b[0m\u001b[0mfile\u001b[0m\u001b[0;34m,\u001b[0m \u001b[0mindex_col\u001b[0m\u001b[0;34m=\u001b[0m\u001b[0;36m0\u001b[0m\u001b[0;34m)\u001b[0m\u001b[0;34m\u001b[0m\u001b[0m\n\u001b[0m\u001b[1;32m      3\u001b[0m \u001b[0;34m\u001b[0m\u001b[0m\n\u001b[1;32m      4\u001b[0m \u001b[0mfig\u001b[0m\u001b[0;34m,\u001b[0m \u001b[0max\u001b[0m \u001b[0;34m=\u001b[0m \u001b[0mplt\u001b[0m\u001b[0;34m.\u001b[0m\u001b[0msubplots\u001b[0m\u001b[0;34m(\u001b[0m\u001b[0mfigsize\u001b[0m\u001b[0;34m=\u001b[0m\u001b[0;34m(\u001b[0m\u001b[0;36m11\u001b[0m\u001b[0;34m,\u001b[0m \u001b[0;36m8\u001b[0m\u001b[0;34m)\u001b[0m\u001b[0;34m)\u001b[0m\u001b[0;34m\u001b[0m\u001b[0m\n\u001b[1;32m      5\u001b[0m \u001b[0msns\u001b[0m\u001b[0;34m.\u001b[0m\u001b[0mheatmap\u001b[0m\u001b[0;34m(\u001b[0m\u001b[0mdf\u001b[0m\u001b[0;34m,\u001b[0m \u001b[0mcmap\u001b[0m\u001b[0;34m=\u001b[0m\u001b[0;34m'Blues'\u001b[0m\u001b[0;34m,\u001b[0m \u001b[0mannot\u001b[0m\u001b[0;34m=\u001b[0m\u001b[0;32mTrue\u001b[0m\u001b[0;34m,\u001b[0m \u001b[0mfmt\u001b[0m\u001b[0;34m=\u001b[0m\u001b[0;34m'.1f'\u001b[0m\u001b[0;34m,\u001b[0m \u001b[0max\u001b[0m\u001b[0;34m=\u001b[0m\u001b[0max\u001b[0m\u001b[0;34m,\u001b[0m \u001b[0mcbar\u001b[0m\u001b[0;34m=\u001b[0m\u001b[0;32mFalse\u001b[0m\u001b[0;34m)\u001b[0m\u001b[0;34m\u001b[0m\u001b[0m\n",
      "\u001b[0;31mNameError\u001b[0m: name 'pd' is not defined"
     ]
    }
   ],
   "source": [
    "# create a heatmap of the DataFrame\n",
    "df = pd.read_csv(file, index_col=0)\n",
    "\n",
    "fig, ax = plt.subplots(figsize=(11, 8))\n",
    "sns.heatmap(df, cmap='Blues', annot=True, fmt='.1f', ax=ax, cbar=False)\n",
    "\n",
    "# set the axis labels and title\n",
    "ax.set_xlabel('Predicted Labels')\n",
    "ax.set_ylabel('True Labels')\n",
    "ax.set_title('Confusion Matrix')\n",
    "\n",
    "# move the x-axis labels to the top\n",
    "ax.xaxis.tick_top()\n",
    "ax.xaxis.set_label_position('top')\n",
    "\n",
    "# modify the tick labels\n",
    "ax.tick_params(axis='both', which='both', length=0, labelsize=12)\n",
    "ax.tick_params(axis='x', which='major', pad=10, labelrotation=45)\n",
    "\n",
    "# show the plot\n",
    "plt.show()\n"
   ]
  },
  {
   "cell_type": "code",
   "execution_count": 6,
   "metadata": {},
   "outputs": [
    {
     "data": {
      "image/png": "[encoded data removed]",
      "text/plain": [
       "<Figure size 1000x800 with 1 Axes>"
      ]
     },
     "metadata": {},
     "output_type": "display_data"
    }
   ],
   "source": [
    "# load the DataFrame\n",
    "df = pd.read_csv(file, index_col=0)\n",
    "\n",
    "# create a heatmap of the DataFrame\n",
    "fig, ax = plt.subplots(figsize=(10, 8))\n",
    "sns.heatmap(df, cmap='Blues', annot=True, fmt='.1f', ax=ax, cbar=False, annot_kws={'fontsize': 20})\n",
    "\n",
    "# set the axis labels and title\n",
    "ax.set_xlabel('Predicted Labels')\n",
    "ax.set_ylabel('True Labels')\n",
    "ax.set_title('Confusion Matrix')\n",
    "\n",
    "# move the x-axis labels to the top\n",
    "ax.xaxis.tick_top()\n",
    "ax.xaxis.set_label_position('top')\n",
    "\n",
    "# modify the tick labels\n",
    "ax.tick_params(axis='both', which='both', length=0, labelsize=12)\n",
    "ax.tick_params(axis='x', which='major', pad=10, labelrotation=45)\n",
    "\n",
    "# show the plot\n",
    "plt.show()"
   ]
  },
  {
   "cell_type": "code",
   "execution_count": null,
   "metadata": {},
   "outputs": [],
   "source": []
  }
 ],
 "metadata": {
  "kernelspec": {
   "display_name": "Python 3",
   "language": "python",
   "name": "python3"
  },
  "language_info": {
   "codemirror_mode": {
    "name": "ipython",
    "version": 3
   },
   "file_extension": ".py",
   "mimetype": "text/x-python",
   "name": "python",
   "nbconvert_exporter": "python",
   "pygments_lexer": "ipython3",
   "version": "3.7.0"
  },
  "orig_nbformat": 4,
  "vscode": {
   "interpreter": {
    "hash": "aee8b7b246df8f9039afb4144a1f6fd8d2ca17a180786b69acc140d282b71a49"
   }
  }
 },
 "nbformat": 4,
 "nbformat_minor": 2
}
