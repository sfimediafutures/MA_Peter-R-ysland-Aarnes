{
 "cells": [
  {
   "cell_type": "code",
   "execution_count": 102,
   "metadata": {},
   "outputs": [],
   "source": [
    "import csv\n",
    "import os\n",
    "\n",
    "def find_files(root_dir):\n",
    "    file_paths = {}\n",
    "    for dir_name, subdir_list, file_list in os.walk(root_dir):\n",
    "        for file_name in file_list:\n",
    "            if 'norne_CR_binary_' in file_name:\n",
    "                file_path = os.path.join(dir_name, file_name)\n",
    "                key = file_name.replace('norne_CR_binary_', '')\n",
    "                file_paths[key] = file_path\n",
    "    return file_paths\n",
    "\n",
    "\n",
    "\n"
   ]
  },
  {
   "cell_type": "code",
   "execution_count": 103,
   "metadata": {},
   "outputs": [],
   "source": [
    "root_directory = '/Users/aarnes/Documents/GitHub/MA_Peter-R-ysland-Aarnes/Results'\n",
    "files = find_files(root_directory)"
   ]
  },
  {
   "cell_type": "code",
   "execution_count": 104,
   "metadata": {},
   "outputs": [
    {
     "data": {
      "text/plain": [
       "{'norbert.csv': '/Users/aarnes/Documents/GitHub/MA_Peter-R-ysland-Aarnes/Results/norbert/norne_CR_binary_norbert.csv',\n",
       " 'nbailab-base-ner-scandi.csv': '/Users/aarnes/Documents/GitHub/MA_Peter-R-ysland-Aarnes/Results/nbailab-base-ner-scandi/norne_CR_binary_nbailab-base-ner-scandi.csv',\n",
       " 'bert-base-multilingual-cased.csv': '/Users/aarnes/Documents/GitHub/MA_Peter-R-ysland-Aarnes/Results/bert-base-multilingual-cased/norne_CR_binary_bert-base-multilingual-cased.csv',\n",
       " 'norbert2.csv': '/Users/aarnes/Documents/GitHub/MA_Peter-R-ysland-Aarnes/Results/norbert2/norne_CR_binary_norbert2.csv',\n",
       " 'nb-bert-base.csv': '/Users/aarnes/Documents/GitHub/MA_Peter-R-ysland-Aarnes/Results/nb-bert-base/norne_CR_binary_nb-bert-base.csv'}"
      ]
     },
     "execution_count": 104,
     "metadata": {},
     "output_type": "execute_result"
    }
   ],
   "source": [
    "files"
   ]
  },
  {
   "cell_type": "code",
   "execution_count": 45,
   "metadata": {},
   "outputs": [],
   "source": [
    "def extract_rows(file_path, row_type): #row type \"macro_avg\" etc\n",
    "    rows = []\n",
    "    with open(file_path, 'r') as file:\n",
    "        reader = csv.reader(file)\n",
    "        for row in reader:\n",
    "            if len(row) > 0 and row[0] == row_type:\n",
    "                rows.append(row)\n",
    "    return rows\n"
   ]
  },
  {
   "cell_type": "code",
   "execution_count": 46,
   "metadata": {},
   "outputs": [],
   "source": [
    "files = sorted(files)"
   ]
  },
  {
   "cell_type": "code",
   "execution_count": 47,
   "metadata": {},
   "outputs": [
    {
     "data": {
      "text/plain": [
       "['/Users/aarnes/Documents/GitHub/MA_Peter-R-ysland-Aarnes/Results/bert-base-multilingual-cased/norne_CR_binary_bert-base-multilingual-cased.csv',\n",
       " '/Users/aarnes/Documents/GitHub/MA_Peter-R-ysland-Aarnes/Results/nb-bert-base/norne_CR_binary_nb-bert-base.csv',\n",
       " '/Users/aarnes/Documents/GitHub/MA_Peter-R-ysland-Aarnes/Results/nbailab-base-ner-scandi/norne_CR_binary_nbailab-base-ner-scandi.csv',\n",
       " '/Users/aarnes/Documents/GitHub/MA_Peter-R-ysland-Aarnes/Results/norbert/norne_CR_binary_norbert.csv',\n",
       " '/Users/aarnes/Documents/GitHub/MA_Peter-R-ysland-Aarnes/Results/norbert2/norne_CR_binary_norbert2.csv']"
      ]
     },
     "execution_count": 47,
     "metadata": {},
     "output_type": "execute_result"
    }
   ],
   "source": [
    "files"
   ]
  },
  {
   "cell_type": "code",
   "execution_count": 52,
   "metadata": {},
   "outputs": [],
   "source": [
    "mbert = extract_rows(files[0])\n",
    "nb_bert = extract_rows(files[1])\n",
    "scandi_ner = extract_rows(files[2])\n",
    "norbert = extract_rows(files[3])\n",
    "norbert2 = extract_rows(files[4])"
   ]
  },
  {
   "cell_type": "code",
   "execution_count": 90,
   "metadata": {},
   "outputs": [],
   "source": [
    "import numpy as np\n",
    "def get_macro_f1_model(model):\n",
    "    average = 0\n",
    "    for avg in model:\n",
    "        #avg+=average\n",
    "        average+=float(avg[3])\n",
    "    return average/len(model)\n"
   ]
  },
  {
   "cell_type": "code",
   "execution_count": 92,
   "metadata": {},
   "outputs": [],
   "source": [
    "mbert_f1 = get_macro_f1_model(mbert)\n",
    "nb_bert = get_macro_f1_model(nb_bert)\n",
    "scandi_ner = get_macro_f1_model(scandi_ner)\n",
    "norbert = get_macro_f1_model(norbert)\n",
    "norbert2 = get_macro_f1_model(norbert2)"
   ]
  },
  {
   "cell_type": "code",
   "execution_count": 101,
   "metadata": {},
   "outputs": [
    {
     "name": "stdout",
     "output_type": "stream",
     "text": [
      "mbert: 95.51\n",
      "nb_bert: 97.06\n",
      "scandi_ner: 97.07\n",
      "norbert: 96.32\n",
      "norbert2: 95.51\n"
     ]
    }
   ],
   "source": [
    "print(f\"mbert: {round(mbert_f1*100, 2)}\")\n",
    "print(f\"nb_bert: {round(nb_bert*100, 2)}\")\n",
    "print(f\"scandi_ner: {round(scandi_ner*100, 2)}\")\n",
    "print(f\"norbert: {round(norbert*100, 2)}\")\n",
    "print(f\"norbert2: {round(mbert_f1*100, 2)}\")"
   ]
  },
  {
   "cell_type": "code",
   "execution_count": null,
   "metadata": {},
   "outputs": [],
   "source": []
  }
 ],
 "metadata": {
  "kernelspec": {
   "display_name": "Python 3",
   "language": "python",
   "name": "python3"
  },
  "language_info": {
   "codemirror_mode": {
    "name": "ipython",
    "version": 3
   },
   "file_extension": ".py",
   "mimetype": "text/x-python",
   "name": "python",
   "nbconvert_exporter": "python",
   "pygments_lexer": "ipython3",
   "version": "3.7.0"
  },
  "orig_nbformat": 4,
  "vscode": {
   "interpreter": {
    "hash": "aee8b7b246df8f9039afb4144a1f6fd8d2ca17a180786b69acc140d282b71a49"
   }
  }
 },
 "nbformat": 4,
 "nbformat_minor": 2
}
