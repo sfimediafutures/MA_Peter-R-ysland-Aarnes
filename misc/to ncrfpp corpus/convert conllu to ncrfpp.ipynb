{
 "cells": [
  {
   "cell_type": "code",
   "execution_count": 7,
   "metadata": {},
   "outputs": [],
   "source": [
    "import conllu"
   ]
  },
  {
   "cell_type": "code",
   "execution_count": 8,
   "metadata": {},
   "outputs": [],
   "source": [
    "## Conllu stuff\n",
    "def filter_tags(x):\n",
    "    return x        \n",
    "\n",
    "file_list = [\"no_bokmaal-ud-dev\", \"no_bokmaal-ud-test\", \"no_bokmaal-ud-train\", \"no_nynorsk-ud-dev\", \"no_nynorsk-ud-test\", \"no_nynorsk-ud-train\"]\n",
    "def convert_to_list_dict(file):\n",
    "\n",
    "    path = r\"C:\\Users\\Aarne\\OneDrive - University of Bergen\\Dokumenter\\MSTR-PY\\Corpora\\all_conllu\" + \"\\{0}.conllu\".format(file)\n",
    "    # path = \"/Users/aarnes/Library/CloudStorage/OneDrive-UniversityofBergen/Dokumenter/MSTR-PY/Corpora/all_conllu/{}.conllu\".format(file)\n",
    "    with open(path, encoding=\"UTF-8\") as infile:\n",
    "        lst = []\n",
    "        tokens = list(conllu.parse_incr(infile))\n",
    "        for sent in tokens:\n",
    "                dic = {\n",
    "                \"idx\": sent.metadata[\"sent_id\"],\n",
    "                \"text\": sent.metadata[\"text\"],\n",
    "                \"tokens\": [token[\"form\"].lower() for token in sent],\n",
    "                \"lemmas\": [token[\"lemma\"] for token in sent],\n",
    "                \"pos_tags\": [token[\"upos\"] for token in sent],\n",
    "                \"ner_tags\": [filter_tags(token[\"misc\"].get(\"name\", \"O\")) for token in sent],\n",
    "            }\n",
    "                lst.append(dic) \n",
    "        print(\"Converting {} to dictionary \\n {} elements converted..\".format(file, len(lst)))\n",
    "    return lst"
   ]
  },
  {
   "cell_type": "code",
   "execution_count": 9,
   "metadata": {},
   "outputs": [],
   "source": [
    "# dev_split_no = convert_to_list_dict(file_list[0])\n",
    "# test_split_no = convert_to_list_dict(file_list[1])\n",
    "# train_split_no = convert_to_list_dict(file_list[2])\n",
    "\n",
    "# dev_split_ny = convert_to_list_dict(file_list[3])\n",
    "# test_split_ny = convert_to_list_dict(file_list[4])\n",
    "# train_split_ny = convert_to_list_dict(file_list[5])\n",
    "\n",
    "# dev_split = dev_split_no + dev_split_ny\n",
    "# test_split = test_split_no + test_split_ny\n",
    "# train_split = train_split_no + train_split_ny"
   ]
  },
  {
   "cell_type": "code",
   "execution_count": 10,
   "metadata": {},
   "outputs": [
    {
     "name": "stdout",
     "output_type": "stream",
     "text": [
      "Converting no_bokmaal-ud-dev to dictionary \n",
      " 2410 elements converted..\n",
      "Converting no_bokmaal-ud-test to dictionary \n",
      " 1939 elements converted..\n",
      "Converting no_bokmaal-ud-train to dictionary \n",
      " 15696 elements converted..\n"
     ]
    }
   ],
   "source": [
    "dev_split_no = convert_to_list_dict(file_list[0])\n",
    "test_split_no = convert_to_list_dict(file_list[1])\n",
    "train_split_no = convert_to_list_dict(file_list[2])\n",
    "\n"
   ]
  },
  {
   "cell_type": "code",
   "execution_count": 11,
   "metadata": {},
   "outputs": [],
   "source": [
    "def make_bmes_file_ncrfpp(filename, list_dict):\n",
    "    with open(f\"{filename}.bmes\", \"w\", encoding=\"UTF-8\") as file:\n",
    "        for item in list_dict:\n",
    "            to_file = []\n",
    "            for token, tag in zip(item[\"tokens\"], item[\"ner_tags\"]):\n",
    "                token_tag = f\"{token} {tag}\"\n",
    "                to_file.append(token_tag)\n",
    "            for line in to_file:\n",
    "                file.write(line)\n",
    "                file.write(\"\\n\")\n",
    "            file.write(\"\\n\")"
   ]
  },
  {
   "cell_type": "code",
   "execution_count": 12,
   "metadata": {},
   "outputs": [],
   "source": [
    "make_bmes_file_ncrfpp(\"dev_split_no\", dev_split_no)\n",
    "make_bmes_file_ncrfpp(\"test_split_no\", test_split_no)\n",
    "make_bmes_file_ncrfpp(\"train_split_no\", train_split_no)"
   ]
  }
 ],
 "metadata": {
  "kernelspec": {
   "display_name": "Python 3.9.13 64-bit",
   "language": "python",
   "name": "python3"
  },
  "language_info": {
   "codemirror_mode": {
    "name": "ipython",
    "version": 3
   },
   "file_extension": ".py",
   "mimetype": "text/x-python",
   "name": "python",
   "nbconvert_exporter": "python",
   "pygments_lexer": "ipython3",
   "version": "3.9.13"
  },
  "orig_nbformat": 4,
  "vscode": {
   "interpreter": {
    "hash": "1e5f1d1d80de0e037045f44f922af48a35ae55538dc259ba83b72568cdb122e4"
   }
  }
 },
 "nbformat": 4,
 "nbformat_minor": 2
}
