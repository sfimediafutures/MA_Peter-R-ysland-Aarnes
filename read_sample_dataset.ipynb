{
 "cells": [
  {
   "cell_type": "code",
   "execution_count": null,
   "metadata": {},
   "outputs": [],
   "source": [
    "import csv\n",
    "\n",
    "with open('200_annoterte_setninger.csv', newline='') as csvfile:\n",
    "    csvreader = csv.reader(csvfile, delimiter=',')\n",
    "    left_col = []\n",
    "    right_col = []\n",
    "    for row in csvreader:\n",
    "        left_col.append(row[0])\n",
    "        right_col.append(row[1])\n"
   ]
  },
  {
   "cell_type": "code",
   "execution_count": null,
   "metadata": {},
   "outputs": [],
   "source": [
    "\n",
    "def create_sublists(lst):\n",
    "    sublists = []\n",
    "    sublist = []\n",
    "    for element in lst:\n",
    "        if element == '':\n",
    "            if sublist:\n",
    "                sublists.append(sublist)\n",
    "                sublist = []\n",
    "        else:\n",
    "            sublist.append(element)\n",
    "\n",
    "    if sublist:\n",
    "        sublists.append(sublist)\n",
    "\n",
    "    return sublists\n"
   ]
  },
  {
   "cell_type": "code",
   "execution_count": null,
   "metadata": {},
   "outputs": [],
   "source": [
    "y200 = create_sublists(right_col)\n",
    "x200 = create_sublists(left_col)"
   ]
  },
  {
   "cell_type": "code",
   "execution_count": null,
   "metadata": {},
   "outputs": [],
   "source": [
    "x, y = [], []\n",
    "\n",
    "with open(\"parl_annotation_comma_fixed.csv\", \"r\") as f_input:\n",
    "    reader = csv.reader(f_input, delimiter=\",\")\n",
    "    for i, row in enumerate(reader):\n",
    "        if i%2:\n",
    "            y.append(row)\n",
    "        else:\n",
    "            x.append(row)"
   ]
  },
  {
   "cell_type": "code",
   "execution_count": null,
   "metadata": {},
   "outputs": [],
   "source": [
    "def lower_list_of_lists(lists):\n",
    "    return [[word.lower() for word in sublist] for sublist in lists]\n"
   ]
  },
  {
   "cell_type": "code",
   "execution_count": null,
   "metadata": {},
   "outputs": [],
   "source": [
    "lower_x=lower_list_of_lists(x)"
   ]
  },
  {
   "cell_type": "code",
   "execution_count": null,
   "metadata": {},
   "outputs": [],
   "source": [
    "x.extend(x200)\n",
    "y.extend(y200)"
   ]
  }
 ],
 "metadata": {
  "kernelspec": {
   "display_name": "Python 3",
   "language": "python",
   "name": "python3"
  },
  "language_info": {
   "name": "python",
   "version": "3.10.8"
  },
  "orig_nbformat": 4,
  "vscode": {
   "interpreter": {
    "hash": "b0fa6594d8f4cbf19f97940f81e996739fb7646882a419484c72d19e05852a7e"
   }
  }
 },
 "nbformat": 4,
 "nbformat_minor": 2
}
